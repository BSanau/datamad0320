{
 "cells": [
  {
   "cell_type": "markdown",
   "metadata": {},
   "source": [
    "# Challenge 1\n",
    "\n",
    "## Previo:\n",
    "\n",
    "#### 1. En la rama master:\n",
    "Abro el archivo .gitignore\n",
    "\n",
    "Lo modifico y añado al final de la lista .env\n",
    "\n",
    "        .DS_Store\n",
    "        .idea\n",
    "        venv/\n",
    "        .ipynb_checkpoints\n",
    "        __pycache__/\n",
    "        .env\n",
    "\n",
    "Lo commiteo y lo pusheo.\n",
    "\n",
    "#### 2. Creo la rama lab-api-scavenger-game\n",
    "En la carpeta module-1/lab-api-scavenger-game/your-code creo un fichero .env (sólo .env, sin ningún tipo de nombre) y escribo:\n",
    "\n",
    "    GITHUB_APIKEY = “blablabla”\n",
    "\n",
    "Lo guardo. Si le doy a git status, no lo reconoce como fichero para commitear! \n",
    "\n",
    "## 1. Obtain the full list of forks created from the main lab repo via Github API."
   ]
  },
  {
   "cell_type": "code",
   "execution_count": 1,
   "metadata": {},
   "outputs": [],
   "source": [
    "import json\n",
    "import requests"
   ]
  },
  {
   "cell_type": "markdown",
   "metadata": {},
   "source": [
    "Nos metemos en la api de Ironhack. Como es pública, no necesito identificación."
   ]
  },
  {
   "cell_type": "code",
   "execution_count": 2,
   "metadata": {},
   "outputs": [],
   "source": [
    "url = \"https://api.github.com/repos/ironhack-datalabs/datamad0320/forks\"\n",
    "res = requests.get(url)\n",
    "res_jason = res.json()"
   ]
  },
  {
   "cell_type": "markdown",
   "metadata": {},
   "source": [
    "## 2. Loop the JSON response to find out the language attribute of each fork. Use an array to store the language attributes of each fork."
   ]
  },
  {
   "cell_type": "code",
   "execution_count": 3,
   "metadata": {},
   "outputs": [
    {
     "data": {
      "text/plain": [
       "{'Jupyter Notebook', None}"
      ]
     },
     "execution_count": 3,
     "metadata": {},
     "output_type": "execute_result"
    }
   ],
   "source": [
    "language_attribute = set([res_jason[e][\"language\"] for e in range(len(res_jason))])\n",
    "language_attribute "
   ]
  }
 ],
 "metadata": {
  "kernelspec": {
   "display_name": "Python 3",
   "language": "python",
   "name": "python3"
  },
  "language_info": {
   "codemirror_mode": {
    "name": "ipython",
    "version": 3
   },
   "file_extension": ".py",
   "mimetype": "text/x-python",
   "name": "python",
   "nbconvert_exporter": "python",
   "pygments_lexer": "ipython3",
   "version": "3.6.9"
  }
 },
 "nbformat": 4,
 "nbformat_minor": 4
}
