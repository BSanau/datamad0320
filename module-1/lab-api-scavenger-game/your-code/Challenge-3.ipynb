{
 "cells": [
  {
   "cell_type": "markdown",
   "metadata": {},
   "source": [
    "# Challenge 3"
   ]
  },
  {
   "cell_type": "code",
   "execution_count": 1,
   "metadata": {},
   "outputs": [],
   "source": [
    "import json, requests, os, base64, re\n",
    "from dotenv import load_dotenv"
   ]
  },
  {
   "cell_type": "markdown",
   "metadata": {},
   "source": [
    "# 1. Acceder al json file del repositorio scavenger\n",
    "#### Opción A:\n",
    "Guardar la apiKey en un documento .env y llamarla desde aquí. Acceder al contenido del repositorio por medio de la url."
   ]
  },
  {
   "cell_type": "code",
   "execution_count": 2,
   "metadata": {},
   "outputs": [
    {
     "data": {
      "text/plain": [
       "'\\n# Cargar la apiKey\\nload_dotenv()\\napiKey = os.getenv(\"GITHUB_APIKEY\") \\n\\n# Accedemos al contenido del repositorio scavenger\\nurl = \"https://api.github.com/repos/ironhack-datalabs/scavenger/contents\"\\nheader = {\"Authorization\":f\"token {apiKey}\"} #if apiKey else {}\\n\\nres = requests.get(url, headers = header)\\nres_jason = res.json()\\nres_jason\\n'"
      ]
     },
     "execution_count": 2,
     "metadata": {},
     "output_type": "execute_result"
    }
   ],
   "source": [
    "\"\"\"\n",
    "# Cargar la apiKey\n",
    "load_dotenv()\n",
    "apiKey = os.getenv(\"GITHUB_APIKEY\") \n",
    "\n",
    "# Accedemos al contenido del repositorio scavenger\n",
    "url = \"https://api.github.com/repos/ironhack-datalabs/scavenger/contents\"\n",
    "header = {\"Authorization\":f\"token {apiKey}\"} #if apiKey else {}\n",
    "\n",
    "res = requests.get(url, headers = header)\n",
    "res_jason = res.json()\n",
    "res_jason\n",
    "\"\"\""
   ]
  },
  {
   "cell_type": "markdown",
   "metadata": {},
   "source": [
    "#### Opción B:\n",
    "Descargar el fichero a través de la terminal con el comando:\n",
    "\n",
    "```curl -u user:token https://api.github.com/repos/ironhack-datalabs/scavenger/contents > scavenger.json```\n",
    "\n",
    "Y abrirlo como un archivo."
   ]
  },
  {
   "cell_type": "code",
   "execution_count": 3,
   "metadata": {},
   "outputs": [],
   "source": [
    "# Abrir el doc\n",
    "with open('jsonfiles/scavenger.json', 'r') as file:\n",
    "    scavengerjson=file.read()\n",
    "    \n",
    "# parse file\n",
    "res_jason = json.loads(scavengerjson)"
   ]
  },
  {
   "cell_type": "markdown",
   "metadata": {},
   "source": [
    "# 2. Ver las carpetas que contiene el repositorio"
   ]
  },
  {
   "cell_type": "code",
   "execution_count": 4,
   "metadata": {},
   "outputs": [],
   "source": [
    "# Creamos una lista con el nombre de todas las carpetas que hay en el repositorio scavenger\n",
    "folders = [res_jason[i][\"name\"] for i in range(len(res_jason))]\n",
    "folders = folders[1:] #eliminamos de la lista el .gitignore"
   ]
  },
  {
   "cell_type": "markdown",
   "metadata": {},
   "source": [
    "# 3. Acceder al contenido de las carpetas\n",
    "Recorremos las carpetas y miramos si los archivos terminan en .scavengerhunt. Si es así, accedemos a su contenido, que estará codificado en base64.\n",
    "#### Opción A:"
   ]
  },
  {
   "cell_type": "code",
   "execution_count": 5,
   "metadata": {},
   "outputs": [
    {
     "data": {
      "text/plain": [
       "'\\nfilesscavenger= []\\n\\nfor i in range(len(folders)):\\n    \\n    # Abrir el json de cada carpeta\\n    urlfolder = f\"https://api.github.com/repos/ironhack-datalabs/scavenger/contents/{folders[i]}\"\\n    resfolder = requests.get(urlfolder)\\n    res_jason_folder = resfolder.json()\\n    \\n    # Recorrer todos los nombres de los archivos de cada carpeta\\n    for j in range(len(res_jason_folder)):       \\n        nombrefile = res_jason_folder[j][\"name\"]\\n        print (j)\\n        \\n        # Filtrar los archivos \"scavengerhunt\"\\n        if \"scavengerhunt\" in nombrefile:\\n            # Abrir los archivos\\n            urlfile = f\"{urlfolder}/{res_jason_folder[j][\\'name\\']}\"\\n            resfile = requests.get(urlfile)\\n            res_jason_file = resfile.json()\\n            \\n            # Leer el mensaje\\n            message = res_jason_file[\"content\"]\\n\\n            # Descodificar el mensaje\\n            message_bytes= base64.b64decode(message)\\n            message_ascii = message_bytes.decode(\\'ascii\\')\\n            message_decoded = re.search(r\"(\\\\w+)\", message_ascii).group()\\n            \\n            # Guardar nombre del archivo y mensaje en una tupla\\n            filesscavenger.append((nombrefile[1:5], message_decoded))\\n'"
      ]
     },
     "execution_count": 5,
     "metadata": {},
     "output_type": "execute_result"
    }
   ],
   "source": [
    "\"\"\"\n",
    "filesscavenger= []\n",
    "\n",
    "for i in range(len(folders)):\n",
    "    \n",
    "    # Abrir el json de cada carpeta\n",
    "    urlfolder = f\"https://api.github.com/repos/ironhack-datalabs/scavenger/contents/{folders[i]}\"\n",
    "    resfolder = requests.get(urlfolder)\n",
    "    res_jason_folder = resfolder.json()\n",
    "    \n",
    "    # Recorrer todos los nombres de los archivos de cada carpeta\n",
    "    for j in range(len(res_jason_folder)):       \n",
    "        nombrefile = res_jason_folder[j][\"name\"]\n",
    "        print (j)\n",
    "        \n",
    "        # Filtrar los archivos \"scavengerhunt\"\n",
    "        if \"scavengerhunt\" in nombrefile:\n",
    "            # Abrir los archivos\n",
    "            urlfile = f\"{urlfolder}/{res_jason_folder[j]['name']}\"\n",
    "            resfile = requests.get(urlfile)\n",
    "            res_jason_file = resfile.json()\n",
    "            \n",
    "            # Leer el mensaje\n",
    "            message = res_jason_file[\"content\"]\n",
    "\n",
    "            # Descodificar el mensaje\n",
    "            message_bytes= base64.b64decode(message)\n",
    "            message_ascii = message_bytes.decode('ascii')\n",
    "            message_decoded = re.search(r\"(\\w+)\", message_ascii).group()\n",
    "            \n",
    "            # Guardar nombre del archivo y mensaje en una tupla\n",
    "            filesscavenger.append((nombrefile[1:5], message_decoded))\n",
    "\"\"\""
   ]
  },
  {
   "cell_type": "markdown",
   "metadata": {},
   "source": [
    "#### Opción B:"
   ]
  },
  {
   "cell_type": "code",
   "execution_count": 6,
   "metadata": {},
   "outputs": [],
   "source": [
    "filesscavenger= []\n",
    "\n",
    "for i in range(len(folders)):\n",
    "    \n",
    "    # Abrir el json de cada carpeta\n",
    "    with open(f\"jsonfiles/scavenger{folders[i]}.json\", 'r') as file:\n",
    "        folderjson=file.read()\n",
    "    res_jason_folder = json.loads(folderjson)\n",
    "\n",
    "    # Recorrer todos los nombres de los archivos de cada carpeta\n",
    "    for j in range(len(res_jason_folder)):\n",
    "        nombrefile = res_jason_folder[j][\"name\"]\n",
    "        \n",
    "        # Filtrar los archivos \"scavengerhunt\"\n",
    "        if \"scavengerhunt\" in nombrefile:\n",
    "            # Abrir los archivos\n",
    "            with open(f\"jsonfiles/scavenger{folders[i]}{nombrefile[1:5]}.json\", 'r') as file:\n",
    "                filejson=file.read()\n",
    "            res_jason_file = json.loads(filejson)\n",
    "            \n",
    "            # Leer el mensaje\n",
    "            message = res_jason_file[\"content\"]\n",
    "\n",
    "            # Descodificar el mensaje\n",
    "            message_bytes= base64.b64decode(message)\n",
    "            message_ascii = message_bytes.decode('ascii')\n",
    "            message_decoded = re.search(r\"(\\w+)\", message_ascii).group()\n",
    "            \n",
    "            # Guardar nombre del archivo y mensaje en una tupla\n",
    "            filesscavenger.append((nombrefile[1:5], message_decoded))"
   ]
  },
  {
   "cell_type": "markdown",
   "metadata": {},
   "source": [
    "# 4. Ordenar el mensaje"
   ]
  },
  {
   "cell_type": "code",
   "execution_count": 7,
   "metadata": {},
   "outputs": [
    {
     "data": {
      "text/plain": [
       "[('0001', 'In'),\n",
       " ('0002', 'data'),\n",
       " ('0003', 'science'),\n",
       " ('0004', '80'),\n",
       " ('0005', 'percent'),\n",
       " ('0006', 'of'),\n",
       " ('0007', 'time'),\n",
       " ('0008', 'spent'),\n",
       " ('0009', 'is'),\n",
       " ('0010', 'preparing'),\n",
       " ('0011', 'data'),\n",
       " ('0012', '20'),\n",
       " ('0013', 'percent'),\n",
       " ('0014', 'of'),\n",
       " ('0015', 'time'),\n",
       " ('0016', 'is'),\n",
       " ('0017', 'spent'),\n",
       " ('0018', 'complaining'),\n",
       " ('0019', 'about'),\n",
       " ('0020', 'the'),\n",
       " ('0021', 'need'),\n",
       " ('0022', 'to'),\n",
       " ('0023', 'prepare'),\n",
       " ('0024', 'data')]"
      ]
     },
     "execution_count": 7,
     "metadata": {},
     "output_type": "execute_result"
    }
   ],
   "source": [
    "filesscavenger.sort(key=lambda tup: tup[0]) \n",
    "filesscavenger"
   ]
  },
  {
   "cell_type": "code",
   "execution_count": null,
   "metadata": {},
   "outputs": [],
   "source": []
  }
 ],
 "metadata": {
  "kernelspec": {
   "display_name": "Python 3",
   "language": "python",
   "name": "python3"
  },
  "language_info": {
   "codemirror_mode": {
    "name": "ipython",
    "version": 3
   },
   "file_extension": ".py",
   "mimetype": "text/x-python",
   "name": "python",
   "nbconvert_exporter": "python",
   "pygments_lexer": "ipython3",
   "version": "3.6.9"
  }
 },
 "nbformat": 4,
 "nbformat_minor": 4
}
