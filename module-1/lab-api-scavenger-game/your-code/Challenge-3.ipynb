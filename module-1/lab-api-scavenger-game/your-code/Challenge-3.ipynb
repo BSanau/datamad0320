{
 "cells": [
  {
   "cell_type": "markdown",
   "metadata": {},
   "source": [
    "# Challenge 3"
   ]
  },
  {
   "cell_type": "code",
   "execution_count": 1,
   "metadata": {},
   "outputs": [],
   "source": [
    "import json, requests, os, base64, re\n",
    "from dotenv import load_dotenv"
   ]
  },
  {
   "cell_type": "code",
   "execution_count": 2,
   "metadata": {},
   "outputs": [],
   "source": [
    "load_dotenv()\n",
    "apiKey = os.getenv(\"GITHUB_APIKEY\") "
   ]
  },
  {
   "cell_type": "code",
   "execution_count": 3,
   "metadata": {},
   "outputs": [],
   "source": [
    "# Accedemos al contenido del repositorio scavenger\n",
    "url = \"https://api.github.com/repos/ironhack-datalabs/scavenger/contents\"\n",
    "header = {\"Authorization\":f\"token {apiKey}\"} #if apiKey else {}\n",
    "\n",
    "res = requests.get(url, headers = header)\n",
    "res_jason = res.json()"
   ]
  },
  {
   "cell_type": "code",
   "execution_count": 4,
   "metadata": {},
   "outputs": [],
   "source": [
    "# Creamos una lista con el nombre de todas las carpetas que hay en el repositorio scavenger\n",
    "folders = [res_jason[i][\"name\"] for i in range(len(res_jason))]"
   ]
  },
  {
   "cell_type": "code",
   "execution_count": 5,
   "metadata": {},
   "outputs": [],
   "source": [
    "folders = folders[1:] #eliminamos de la lista el .gitignore"
   ]
  },
  {
   "cell_type": "code",
   "execution_count": 6,
   "metadata": {
    "scrolled": true
   },
   "outputs": [
    {
     "name": "stdout",
     "output_type": "stream",
     "text": [
      "15024\n"
     ]
    },
    {
     "ename": "KeyError",
     "evalue": "0",
     "output_type": "error",
     "traceback": [
      "\u001b[0;31m---------------------------------------------------------------------------\u001b[0m",
      "\u001b[0;31mKeyError\u001b[0m                                  Traceback (most recent call last)",
      "\u001b[0;32m<ipython-input-6-941f4b4ce12f>\u001b[0m in \u001b[0;36m<module>\u001b[0;34m\u001b[0m\n\u001b[1;32m      9\u001b[0m     \u001b[0;31m#print(folders[i], res_jason_folder)\u001b[0m\u001b[0;34m\u001b[0m\u001b[0;34m\u001b[0m\u001b[0;34m\u001b[0m\u001b[0m\n\u001b[1;32m     10\u001b[0m     \u001b[0;32mfor\u001b[0m \u001b[0mj\u001b[0m \u001b[0;32min\u001b[0m \u001b[0mrange\u001b[0m\u001b[0;34m(\u001b[0m\u001b[0mlen\u001b[0m\u001b[0;34m(\u001b[0m\u001b[0mres_jason_folder\u001b[0m\u001b[0;34m)\u001b[0m\u001b[0;34m)\u001b[0m\u001b[0;34m:\u001b[0m\u001b[0;34m\u001b[0m\u001b[0;34m\u001b[0m\u001b[0m\n\u001b[0;32m---> 11\u001b[0;31m         \u001b[0mnombrefile\u001b[0m \u001b[0;34m=\u001b[0m \u001b[0mres_jason_folder\u001b[0m\u001b[0;34m[\u001b[0m\u001b[0mj\u001b[0m\u001b[0;34m]\u001b[0m\u001b[0;34m[\u001b[0m\u001b[0;34m\"name\"\u001b[0m\u001b[0;34m]\u001b[0m\u001b[0;34m\u001b[0m\u001b[0;34m\u001b[0m\u001b[0m\n\u001b[0m\u001b[1;32m     12\u001b[0m         \u001b[0mprint\u001b[0m\u001b[0;34m(\u001b[0m\u001b[0mnombrefile\u001b[0m\u001b[0;34m)\u001b[0m\u001b[0;34m\u001b[0m\u001b[0;34m\u001b[0m\u001b[0m\n\u001b[1;32m     13\u001b[0m         \u001b[0;31m#if \"scavengerhunt\" in nombrefile:\u001b[0m\u001b[0;34m\u001b[0m\u001b[0;34m\u001b[0m\u001b[0;34m\u001b[0m\u001b[0m\n",
      "\u001b[0;31mKeyError\u001b[0m: 0"
     ]
    }
   ],
   "source": [
    "scavengerhunt=[]\n",
    "for i in range(len(folders)):\n",
    "    urlfolder = f\"https://api.github.com/repos/ironhack-datalabs/scavenger/contents/{folders[i]}\"\n",
    "    #print (urlfolder)\n",
    "    print(folders[i])\n",
    "    resfolder = requests.get(urlfolder)\n",
    "    #print(folders[i], resfolder)\n",
    "    res_jason_folder = resfolder.json()\n",
    "    #print(folders[i], res_jason_folder)\n",
    "    for j in range(len(res_jason_folder)):\n",
    "        nombrefile = res_jason_folder[j][\"name\"]\n",
    "        print(nombrefile)\n",
    "        #if \"scavengerhunt\" in nombrefile:\n",
    "            #print(nombrefile)\n",
    "            #message = res_jason_folder[j][\"content\"]\n",
    "            \n",
    "            # Descodificando el mensaje\n",
    "            #message_bytes= base64.b64decode(message)\n",
    "            #message_ascii = decode_message.decode('ascii')\n",
    "            #message_decoded = re.search(r\"(\\w+)\", message_ascii).group()\n",
    "            #scavengerhunt.append(message_decoded)"
   ]
  },
  {
   "cell_type": "code",
   "execution_count": 12,
   "metadata": {},
   "outputs": [
    {
     "data": {
      "text/plain": [
       "{'message': \"API rate limit exceeded for 83.51.40.152. (But here's the good news: Authenticated requests get a higher rate limit. Check out the documentation for more details.)\",\n",
       " 'documentation_url': 'https://developer.github.com/v3/#rate-limiting'}"
      ]
     },
     "execution_count": 12,
     "metadata": {},
     "output_type": "execute_result"
    }
   ],
   "source": [
    "res_jason_folder"
   ]
  },
  {
   "cell_type": "code",
   "execution_count": null,
   "metadata": {},
   "outputs": [],
   "source": [
    "urlfolder = \"https://api.github.com/repos/ironhack-datalabs/scavenger/contents/15024\"\n",
    "resfolder = requests.get(urlfolder)\n",
    "res_jason_folder = resfolder.json()\n",
    "message = res_jason_folder[\"content\"]\n",
    "# Descodificando el mensaje\n",
    "message_bytes= base64.b64decode(message)\n",
    "message_ascii = decode_message.decode('ascii')\n",
    "message_decoded = re.search(r\"(\\w+)\", message_ascii).group()"
   ]
  },
  {
   "cell_type": "code",
   "execution_count": null,
   "metadata": {},
   "outputs": [],
   "source": []
  }
 ],
 "metadata": {
  "kernelspec": {
   "display_name": "Python 3",
   "language": "python",
   "name": "python3"
  },
  "language_info": {
   "codemirror_mode": {
    "name": "ipython",
    "version": 3
   },
   "file_extension": ".py",
   "mimetype": "text/x-python",
   "name": "python",
   "nbconvert_exporter": "python",
   "pygments_lexer": "ipython3",
   "version": "3.6.9"
  }
 },
 "nbformat": 4,
 "nbformat_minor": 4
}
