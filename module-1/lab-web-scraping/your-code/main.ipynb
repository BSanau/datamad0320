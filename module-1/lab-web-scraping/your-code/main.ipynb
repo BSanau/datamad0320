{
 "cells": [
  {
   "cell_type": "markdown",
   "metadata": {},
   "source": [
    "# Web Scraping Lab\n",
    "\n",
    "You will find in this notebook some scrapy exercises to practise your scraping skills.\n",
    "\n",
    "**Tips:**\n",
    "\n",
    "- Check the response status code for each request to ensure you have obtained the intended contennt.\n",
    "- Print the response text in each request to understand the kind of info you are getting and its format.\n",
    "- Check for patterns in the response text to extract the data/info requested in each question.\n",
    "- Visit each url and take a look at its source through Chrome DevTools. You'll need to identify the html tags, special class names etc. used for the html content you are expected to extract."
   ]
  },
  {
   "cell_type": "markdown",
   "metadata": {},
   "source": [
    "- [Requests library](http://docs.python-requests.org/en/master/#the-user-guide) documentation \n",
    "- [Beautiful Soup Doc](https://www.crummy.com/software/BeautifulSoup/bs4/doc/)\n",
    "- [Urllib](https://docs.python.org/3/library/urllib.html#module-urllib)\n",
    "- [re lib](https://docs.python.org/3/library/re.html)\n",
    "- [lxml lib](https://lxml.de/)\n",
    "- [Scrapy](https://scrapy.org/)\n",
    "- [List of HTTP status codes](https://en.wikipedia.org/wiki/List_of_HTTP_status_codes)\n",
    "- [HTML basics](http://www.simplehtmlguide.com/cheatsheet.php)\n",
    "- [CSS basics](https://www.cssbasics.com/#page_start)"
   ]
  },
  {
   "cell_type": "markdown",
   "metadata": {},
   "source": [
    "#### Below are the libraries and modules you may need. `requests`,  `BeautifulSoup` and `pandas` are imported for you. If you prefer to use additional libraries feel free to uncomment them."
   ]
  },
  {
   "cell_type": "code",
   "execution_count": 1,
   "metadata": {},
   "outputs": [],
   "source": [
    "import requests\n",
    "from bs4 import BeautifulSoup\n",
    "import pandas as pd\n",
    "# from pprint import pprint\n",
    "# from lxml import html\n",
    "# from lxml.html import fromstring\n",
    "# import urllib.request\n",
    "# from urllib.request import urlopen\n",
    "# import random\n",
    "import re\n",
    "# import scrapy\n",
    "import base64, codecs"
   ]
  },
  {
   "cell_type": "markdown",
   "metadata": {},
   "source": [
    "#### 1. Download, parse (using BeautifulSoup), and print the content from the Trending Developers page from GitHub:"
   ]
  },
  {
   "cell_type": "code",
   "execution_count": 2,
   "metadata": {},
   "outputs": [],
   "source": [
    "# This is the url you will scrape in this exercise\n",
    "url = 'https://github.com/trending/developers'"
   ]
  },
  {
   "cell_type": "code",
   "execution_count": 3,
   "metadata": {},
   "outputs": [],
   "source": [
    "#your code\n",
    "\n",
    "res = requests.get(url) #download content\n",
    "res.text #parsing data into text\n",
    "soup = BeautifulSoup(res.text)"
   ]
  },
  {
   "cell_type": "code",
   "execution_count": 4,
   "metadata": {},
   "outputs": [],
   "source": [
    "#soup.contents #printing the content"
   ]
  },
  {
   "cell_type": "markdown",
   "metadata": {},
   "source": [
    "#### 2. Display the names of the trending developers retrieved in the previous step.\n",
    "\n",
    "Your output should be a Python list of developer names. Each name should not contain any html tag.\n",
    "\n",
    "**Instructions:**\n",
    "\n",
    "1. Find out the html tag and class names used for the developer names. You can achieve this using Chrome DevTools.\n",
    "\n",
    "1. Use BeautifulSoup to extract all the html elements that contain the developer names.\n",
    "\n",
    "1. Use string manipulation techniques to replace whitespaces and linebreaks (i.e. `\\n`) in the *text* of each html element. Use a list to store the clean names.\n",
    "\n",
    "1. Print the list of names.\n",
    "\n",
    "Your output should look like below:\n",
    "\n",
    "```\n",
    "['trimstray (@trimstray)',\n",
    " 'joewalnes (JoeWalnes)',\n",
    " 'charlax (Charles-AxelDein)',\n",
    " 'ForrestKnight (ForrestKnight)',\n",
    " 'revery-ui (revery-ui)',\n",
    " 'alibaba (Alibaba)',\n",
    " 'Microsoft (Microsoft)',\n",
    " 'github (GitHub)',\n",
    " 'facebook (Facebook)',\n",
    " 'boazsegev (Bo)',\n",
    " 'google (Google)',\n",
    " 'cloudfetch',\n",
    " 'sindresorhus (SindreSorhus)',\n",
    " 'tensorflow',\n",
    " 'apache (TheApacheSoftwareFoundation)',\n",
    " 'DevonCrawford (DevonCrawford)',\n",
    " 'ARMmbed (ArmMbed)',\n",
    " 'vuejs (vuejs)',\n",
    " 'fastai (fast.ai)',\n",
    " 'QiShaoXuan (Qi)',\n",
    " 'joelparkerhenderson (JoelParkerHenderson)',\n",
    " 'torvalds (LinusTorvalds)',\n",
    " 'CyC2018',\n",
    " 'komeiji-satori (神楽坂覚々)',\n",
    " 'script-8']\n",
    " ```"
   ]
  },
  {
   "cell_type": "code",
   "execution_count": 59,
   "metadata": {},
   "outputs": [],
   "source": [
    "# your-code\n",
    "\n",
    "articles = soup.find_all(\"article\") # La información que buscamos está dentro de un tag \"article\"\n",
    "#print(articles)\n",
    "[article.get(\"class\") for article in articles] # Buscamos el tipo de clase dentro de un tag \"article\"\n",
    "articles = articles[::2] # Solo nos interesan los articles con clase"
   ]
  },
  {
   "cell_type": "code",
   "execution_count": 60,
   "metadata": {},
   "outputs": [],
   "source": [
    "art = soup.select(\"article.Box-row.d-flex\") # Seleccionamos la clase dentro del tag article"
   ]
  },
  {
   "cell_type": "code",
   "execution_count": 71,
   "metadata": {},
   "outputs": [],
   "source": [
    "# Definimos una función para obtener la información que buscamos\n",
    "\n",
    "def gettinginfo (art):\n",
    "    alias = art.find_all(\"a\")[2][\"href\"][1:]\n",
    "    nombre = art.find_all(\"a\")[2].text.strip()\n",
    "    return nombre, alias"
   ]
  },
  {
   "cell_type": "code",
   "execution_count": 73,
   "metadata": {},
   "outputs": [
    {
     "data": {
      "text/plain": [
       "[('Jeremy Apthorp', 'nornagon'),\n",
       " ('Jonah Williams', 'jonahwilliams'),\n",
       " ('Felix Angelov', 'felangel'),\n",
       " ('chencheng (云谦)', 'sorrycc'),\n",
       " ('Sebastián Ramírez', 'tiangolo'),\n",
       " ('Mariusz Nowak', 'medikoo'),\n",
       " ('Dawid Urbaniak', 'Trancever'),\n",
       " ('Jeffrey Su', 'JeffreySu'),\n",
       " ('Hugo Bowne-Anderson', 'hugobowne'),\n",
       " ('Felipe Fialho', 'felipefialho'),\n",
       " ('Yuri Shkuro', 'yurishkuro'),\n",
       " ('R.I.Pienaar', 'ripienaar'),\n",
       " ('Zeno Rocha', 'zenorocha'),\n",
       " ('Maxim Kulkin', 'maximkulkin'),\n",
       " ('Robert Mosolgo', 'rmosolgo'),\n",
       " ('Pierre Krieger', 'tomaka'),\n",
       " ('Iman', 'imanghafoori1'),\n",
       " ('Luis Alvarez D.', 'lfades'),\n",
       " ('Matic Zavadlal', 'maticzav'),\n",
       " ('Marten Seemann', 'marten-seemann'),\n",
       " ('David Peter', 'sharkdp'),\n",
       " ('Jake Wharton', 'JakeWharton'),\n",
       " ('Jeff Bezanson', 'JeffBezanson'),\n",
       " ('James Munnelly', 'munnerz'),\n",
       " ('Matthew Johnson', 'mattjj')]"
      ]
     },
     "execution_count": 73,
     "metadata": {},
     "output_type": "execute_result"
    }
   ],
   "source": [
    "# Aplicamos la función a todas las filas\n",
    "developpers = list(map(gettinginfo, art))\n",
    "developpers"
   ]
  },
  {
   "cell_type": "code",
   "execution_count": 5,
   "metadata": {},
   "outputs": [],
   "source": [
    "\"\"\"\n",
    "# Otra manera de obtener el alias\n",
    "articles = soup.find_all(\"article\") # Vemos que hay un Tag <article> para cada desarrollador\n",
    "articles = articles[::2] # Los artículos en posición impar están vacíos\n",
    "# Dentro de cada artículo, hay un \"id\" y una \"class\", en el \"id\" figura el nombre\n",
    "listdev = [article.get(\"id\")[3:] for article in articles]\n",
    "listdev\n",
    "\"\"\""
   ]
  },
  {
   "cell_type": "markdown",
   "metadata": {},
   "source": [
    "#### 3. Display the trending Python repositories in GitHub\n",
    "\n",
    "The steps to solve this problem is similar to the previous one except that you need to find out the repository names instead of developer names."
   ]
  },
  {
   "cell_type": "code",
   "execution_count": 74,
   "metadata": {},
   "outputs": [],
   "source": [
    "# This is the url you will scrape in this exercise\n",
    "url = 'https://github.com/trending/python?since=daily'"
   ]
  },
  {
   "cell_type": "code",
   "execution_count": 75,
   "metadata": {},
   "outputs": [],
   "source": [
    "# your-code\n",
    "\n",
    "res = requests.get(url) #download content\n",
    "res.text #parsing data into text\n",
    "soup = BeautifulSoup(res.text)"
   ]
  },
  {
   "cell_type": "code",
   "execution_count": 79,
   "metadata": {},
   "outputs": [],
   "source": [
    "articles = soup.select(\"article > h1\")\n",
    "#articles = soup.select(\"h1 a\")[0][\"href\"] # Otra manera de obtener ambos datos"
   ]
  },
  {
   "cell_type": "code",
   "execution_count": 80,
   "metadata": {},
   "outputs": [],
   "source": [
    "def contenido (article):\n",
    "    content = article.text\n",
    "    content = content.strip().split(\" /\\n\\n\\n\\n      \")\n",
    "    \n",
    "    return content[0], content[1]"
   ]
  },
  {
   "cell_type": "code",
   "execution_count": 81,
   "metadata": {},
   "outputs": [
    {
     "data": {
      "text/plain": [
       "[('rojter-tech', 'pluradl.py'),\n",
       " ('caoscott', 'SReC'),\n",
       " ('0voice', 'interview_internal_reference'),\n",
       " ('ageitgey', 'face_recognition'),\n",
       " ('manchenkoff', 'skillbox-async-chat'),\n",
       " ('XiaohangZhan', 'deocclusion'),\n",
       " ('google-research', 'text-to-text-transfer-transformer'),\n",
       " ('kon9chunkit', 'GitHub-Chinese-Top-Charts'),\n",
       " ('tiangolo', 'fastapi'),\n",
       " ('CorentinJ', 'Real-Time-Voice-Cloning'),\n",
       " ('home-assistant', 'core'),\n",
       " ('alex04072000', 'ObstructionRemoval'),\n",
       " ('pcomputo', 'Whole-Foods-Delivery-Slot'),\n",
       " ('CharlesPikachu', 'Games'),\n",
       " ('doccano', 'doccano'),\n",
       " ('google', 'jax'),\n",
       " ('hankcs', 'HanLP'),\n",
       " ('Sentdex', 'pygta5'),\n",
       " ('ray-project', 'ray'),\n",
       " ('Yelp', 'elastalert'),\n",
       " ('timgrossmann', 'InstaPy'),\n",
       " ('huggingface', 'transformers'),\n",
       " ('ikergarcia1996', 'Self-Driving-Car-in-Video-Games'),\n",
       " ('fizyr', 'keras-retinanet'),\n",
       " ('apache', 'airflow')]"
      ]
     },
     "execution_count": 81,
     "metadata": {},
     "output_type": "execute_result"
    }
   ],
   "source": [
    "[contenido(article) for article in articles]"
   ]
  },
  {
   "cell_type": "markdown",
   "metadata": {},
   "source": [
    "#### 4. Display all the image links from Walt Disney wikipedia page"
   ]
  },
  {
   "cell_type": "code",
   "execution_count": 121,
   "metadata": {},
   "outputs": [],
   "source": [
    "# This is the url you will scrape in this exercise\n",
    "url = 'https://en.wikipedia.org/wiki/Walt_Disney'"
   ]
  },
  {
   "cell_type": "code",
   "execution_count": 122,
   "metadata": {},
   "outputs": [],
   "source": [
    "#your code\n",
    "\n",
    "res = requests.get(url) #download content\n",
    "res.text #parsing data into text\n",
    "soup = BeautifulSoup(res.text)"
   ]
  },
  {
   "cell_type": "markdown",
   "metadata": {},
   "source": [
    "En la url, hay imágenes en la tabla de biografía y en el contenido. Buscamos las imágenes en la bibliografía:"
   ]
  },
  {
   "cell_type": "code",
   "execution_count": 126,
   "metadata": {},
   "outputs": [
    {
     "name": "stdout",
     "output_type": "stream",
     "text": [
      "/wiki/File:Walt_Disney_1946.JPG\n",
      "/wiki/File:Walt_Disney_1942_signature.svg\n"
     ]
    }
   ],
   "source": [
    "#soup.select(\"table > tbody > tr\")[1].text #leyenda de la primera foto\n",
    "#photo1 = soup.select(\"table > tbody > tr\")[1].select(\"td > a\")[0][\"href\"] # Primera foto\n",
    "#photo2 = soup.select(\"table > tbody > tr\")[9].select(\"td > a\")[0][\"href\"] # Segunda foto\n",
    "#print(photo1)\n",
    "#print(photo2)"
   ]
  },
  {
   "cell_type": "markdown",
   "metadata": {},
   "source": [
    "Buscamos las imágenes del contenido."
   ]
  },
  {
   "cell_type": "code",
   "execution_count": 106,
   "metadata": {},
   "outputs": [
    {
     "data": {
      "text/plain": [
       "['/wiki/File:Walt_Disney_1946.JPG',\n",
       " '/wiki/File:Walt_Disney_1942_signature.svg',\n",
       " '/wiki/File:Walt_Disney_envelope_ca._1921.jpg',\n",
       " '/wiki/File:Trolley_Troubles_poster.jpg',\n",
       " '/wiki/File:Walt_Disney_and_his_cartoon_creation_%22Mickey_Mouse%22_-_National_Board_of_Review_Magazine.jpg',\n",
       " '/wiki/File:Steamboat-willie.jpg',\n",
       " '/wiki/File:Walt_Disney_1935.jpg',\n",
       " '/wiki/File:Walt_Disney_Snow_white_1937_trailer_screenshot_(13).jpg',\n",
       " '/wiki/File:Disney_drawing_goofy.jpg',\n",
       " '/wiki/File:DisneySchiphol1951.jpg',\n",
       " '/wiki/File:WaltDisneyplansDisneylandDec1954.jpg',\n",
       " '/wiki/File:Walt_disney_portrait_right.jpg',\n",
       " '/wiki/File:Walt_Disney_Grave.JPG',\n",
       " '/wiki/File:Roy_O._Disney_with_Company_at_Press_Conference.jpg',\n",
       " '/wiki/File:Disney_Display_Case.JPG',\n",
       " '/wiki/File:Disney1968.jpg',\n",
       " '/wiki/File:The_Walt_Disney_Company_Logo.svg',\n",
       " '/wiki/File:Animation_disc.svg',\n",
       " '/wiki/File:P_vip.svg',\n",
       " '/wiki/File:Magic_Kingdom_castle.jpg',\n",
       " '/wiki/File:Video-x-generic.svg',\n",
       " '/wiki/File:Flag_of_Los_Angeles_County,_California.svg',\n",
       " '/wiki/File:Blank_television_set.svg',\n",
       " '/wiki/File:Flag_of_the_United_States.svg']"
      ]
     },
     "execution_count": 106,
     "metadata": {},
     "output_type": "execute_result"
    }
   ],
   "source": [
    "atag = soup.find_all(\"a\")\n",
    "[tag[\"href\"] for tag in atag if tag.get(\"class\")==[\"image\"]]"
   ]
  },
  {
   "cell_type": "markdown",
   "metadata": {},
   "source": [
    "#### 5. Retrieve an arbitary Wikipedia page of \"Python\" and create a list of links on that page"
   ]
  },
  {
   "cell_type": "code",
   "execution_count": 129,
   "metadata": {},
   "outputs": [],
   "source": [
    "# This is the url you will scrape in this exercise\n",
    "url ='https://en.wikipedia.org/wiki/Python' "
   ]
  },
  {
   "cell_type": "code",
   "execution_count": 130,
   "metadata": {},
   "outputs": [],
   "source": [
    "#your code\n",
    "\n",
    "res = requests.get(url) #download content\n",
    "res.text #parsing data into text\n",
    "soup = BeautifulSoup(res.text)"
   ]
  },
  {
   "cell_type": "code",
   "execution_count": 147,
   "metadata": {},
   "outputs": [
    {
     "ename": "KeyError",
     "evalue": "'href'",
     "output_type": "error",
     "traceback": [
      "\u001b[0;31m---------------------------------------------------------------------------\u001b[0m",
      "\u001b[0;31mKeyError\u001b[0m                                  Traceback (most recent call last)",
      "\u001b[0;32m<ipython-input-147-ce8b2e15807f>\u001b[0m in \u001b[0;36m<module>\u001b[0;34m\u001b[0m\n\u001b[1;32m      3\u001b[0m \u001b[0matag\u001b[0m \u001b[0;34m=\u001b[0m \u001b[0msoup\u001b[0m\u001b[0;34m.\u001b[0m\u001b[0mfind_all\u001b[0m\u001b[0;34m(\u001b[0m\u001b[0;34m\"a\"\u001b[0m\u001b[0;34m)\u001b[0m \u001b[0;31m#no sale nada que contenga \"python\"\u001b[0m\u001b[0;34m\u001b[0m\u001b[0;34m\u001b[0m\u001b[0m\n\u001b[1;32m      4\u001b[0m \u001b[0;31m#atag[17][\"href\"]\u001b[0m\u001b[0;34m\u001b[0m\u001b[0;34m\u001b[0m\u001b[0;34m\u001b[0m\u001b[0m\n\u001b[0;32m----> 5\u001b[0;31m \u001b[0;34m[\u001b[0m\u001b[0mtag\u001b[0m\u001b[0;34m[\u001b[0m\u001b[0;34m\"href\"\u001b[0m\u001b[0;34m]\u001b[0m \u001b[0;32mfor\u001b[0m \u001b[0mtag\u001b[0m \u001b[0;32min\u001b[0m \u001b[0matag\u001b[0m\u001b[0;34m]\u001b[0m\u001b[0;34m\u001b[0m\u001b[0;34m\u001b[0m\u001b[0m\n\u001b[0m",
      "\u001b[0;32m<ipython-input-147-ce8b2e15807f>\u001b[0m in \u001b[0;36m<listcomp>\u001b[0;34m(.0)\u001b[0m\n\u001b[1;32m      3\u001b[0m \u001b[0matag\u001b[0m \u001b[0;34m=\u001b[0m \u001b[0msoup\u001b[0m\u001b[0;34m.\u001b[0m\u001b[0mfind_all\u001b[0m\u001b[0;34m(\u001b[0m\u001b[0;34m\"a\"\u001b[0m\u001b[0;34m)\u001b[0m \u001b[0;31m#no sale nada que contenga \"python\"\u001b[0m\u001b[0;34m\u001b[0m\u001b[0;34m\u001b[0m\u001b[0m\n\u001b[1;32m      4\u001b[0m \u001b[0;31m#atag[17][\"href\"]\u001b[0m\u001b[0;34m\u001b[0m\u001b[0;34m\u001b[0m\u001b[0;34m\u001b[0m\u001b[0m\n\u001b[0;32m----> 5\u001b[0;31m \u001b[0;34m[\u001b[0m\u001b[0mtag\u001b[0m\u001b[0;34m[\u001b[0m\u001b[0;34m\"href\"\u001b[0m\u001b[0;34m]\u001b[0m \u001b[0;32mfor\u001b[0m \u001b[0mtag\u001b[0m \u001b[0;32min\u001b[0m \u001b[0matag\u001b[0m\u001b[0;34m]\u001b[0m\u001b[0;34m\u001b[0m\u001b[0;34m\u001b[0m\u001b[0m\n\u001b[0m",
      "\u001b[0;32m~/.local/lib/python3.6/site-packages/bs4/element.py\u001b[0m in \u001b[0;36m__getitem__\u001b[0;34m(self, key)\u001b[0m\n\u001b[1;32m   1366\u001b[0m         \"\"\"tag[key] returns the value of the 'key' attribute for the Tag,\n\u001b[1;32m   1367\u001b[0m         and throws an exception if it's not there.\"\"\"\n\u001b[0;32m-> 1368\u001b[0;31m         \u001b[0;32mreturn\u001b[0m \u001b[0mself\u001b[0m\u001b[0;34m.\u001b[0m\u001b[0mattrs\u001b[0m\u001b[0;34m[\u001b[0m\u001b[0mkey\u001b[0m\u001b[0;34m]\u001b[0m\u001b[0;34m\u001b[0m\u001b[0;34m\u001b[0m\u001b[0m\n\u001b[0m\u001b[1;32m   1369\u001b[0m \u001b[0;34m\u001b[0m\u001b[0m\n\u001b[1;32m   1370\u001b[0m     \u001b[0;32mdef\u001b[0m \u001b[0m__iter__\u001b[0m\u001b[0;34m(\u001b[0m\u001b[0mself\u001b[0m\u001b[0;34m)\u001b[0m\u001b[0;34m:\u001b[0m\u001b[0;34m\u001b[0m\u001b[0;34m\u001b[0m\u001b[0m\n",
      "\u001b[0;31mKeyError\u001b[0m: 'href'"
     ]
    }
   ],
   "source": [
    "#links = soup.find_all(\"link\")\n",
    "#[link[\"href\"] for link in links]\n",
    "atag = soup.find_all(\"a\") #no sale nada que contenga \"python\"\n",
    "#atag[17][\"href\"]\n",
    "[tag[\"href\"] for tag in atag]"
   ]
  },
  {
   "cell_type": "markdown",
   "metadata": {},
   "source": [
    "#### 6. Number of Titles that have changed in the United States Code since its last release point "
   ]
  },
  {
   "cell_type": "code",
   "execution_count": 99,
   "metadata": {},
   "outputs": [],
   "source": [
    "# This is the url you will scrape in this exercise\n",
    "url = 'http://uscode.house.gov/download/download.shtml'"
   ]
  },
  {
   "cell_type": "code",
   "execution_count": 100,
   "metadata": {},
   "outputs": [],
   "source": [
    "#your code\n",
    "\n",
    "res = requests.get(url) #download content\n",
    "res.text #parsing data into text\n",
    "soup = BeautifulSoup(res.text)"
   ]
  },
  {
   "cell_type": "code",
   "execution_count": 136,
   "metadata": {},
   "outputs": [],
   "source": [
    "#soup.find_all(\"div\")[0]"
   ]
  },
  {
   "cell_type": "markdown",
   "metadata": {},
   "source": [
    "#### 7. A Python list with the top ten FBI's Most Wanted names "
   ]
  },
  {
   "cell_type": "code",
   "execution_count": 149,
   "metadata": {},
   "outputs": [],
   "source": [
    "# This is the url you will scrape in this exercise\n",
    "url = 'https://www.fbi.gov/wanted/topten'"
   ]
  },
  {
   "cell_type": "code",
   "execution_count": 150,
   "metadata": {},
   "outputs": [],
   "source": [
    "#your code \n",
    "\n",
    "res = requests.get(url) #download content\n",
    "res.text #parsing data into text\n",
    "soup = BeautifulSoup(res.text)"
   ]
  },
  {
   "cell_type": "code",
   "execution_count": 173,
   "metadata": {},
   "outputs": [
    {
     "data": {
      "text/plain": [
       "['YASER ABDEL SAID',\n",
       " 'ALEXIS FLORES',\n",
       " 'EUGENE PALMER',\n",
       " 'SANTIAGO VILLALBA MEDEROS',\n",
       " 'RAFAEL CARO-QUINTERO',\n",
       " 'ROBERT WILLIAM FISHER',\n",
       " 'BHADRESHKUMAR CHETANBHAI PATEL',\n",
       " 'ALEJANDRO ROSALES CASTILLO',\n",
       " 'ARNOLDO JIMENEZ',\n",
       " 'JASON DEREK BROWN']"
      ]
     },
     "execution_count": 173,
     "metadata": {},
     "output_type": "execute_result"
    }
   ],
   "source": [
    "# Buscamos todos los tags \"img\" (los nombres están relacionados con la imagen)\n",
    "imgtags = soup.find_all(\"img\")\n",
    "[img[\"alt\"] for img in imgtags[1:]]"
   ]
  },
  {
   "cell_type": "markdown",
   "metadata": {},
   "source": [
    "####  8. 20 latest earthquakes info (date, time, latitude, longitude and region name) by the EMSC as a pandas dataframe"
   ]
  },
  {
   "cell_type": "code",
   "execution_count": 22,
   "metadata": {},
   "outputs": [],
   "source": [
    "# This is the url you will scrape in this exercise\n",
    "url = 'https://www.emsc-csem.org/Earthquake/'"
   ]
  },
  {
   "cell_type": "code",
   "execution_count": 25,
   "metadata": {},
   "outputs": [],
   "source": [
    "#your code\n",
    "\n",
    "res = requests.get(url) #download content\n",
    "res.text #parsing data into text\n",
    "soup = BeautifulSoup(res.text)"
   ]
  },
  {
   "cell_type": "code",
   "execution_count": 59,
   "metadata": {
    "scrolled": true
   },
   "outputs": [],
   "source": [
    "# La información que buscamos está contenida en una tabla, por lo que buscamos todos los tags de \"table\":\n",
    "tables = soup.find_all(\"table\")\n",
    "#tables[3].text # Con .text podemos comprobar que la tabla 3 es la que nos interesa\n",
    "#tables[3].find_all(\"tr\")[1].text #Buscamos todas las filas de la tabla. La fila 1 es la cabecera\n",
    "rows = tables[3].find_all(\"tr\")[1:]"
   ]
  },
  {
   "cell_type": "code",
   "execution_count": 117,
   "metadata": {},
   "outputs": [],
   "source": [
    "def structureLine(tag):\n",
    "    td = tag.find_all(\"td\")\n",
    "    \n",
    "    # Date and time data\n",
    "    a = td[3].text\n",
    "    date = re.search(r\"\\d{4}-\\d{2}-\\d{2}\", a).group()\n",
    "    time = re.search(r\"\\d{2}:\\d{2}:\\d{2}.+\", a).group()\n",
    "\n",
    "    return {\n",
    "        \"Date\": date,\n",
    "        \"Time\":  time,\n",
    "        \"Latitude\": td[4].text[0:-1], #realmente hay que hacer una transformación 64b\n",
    "        \"Longitude\": td[6].text[0:-1], #realmente hay que hacer una transformación 64b\n",
    "        \"Magnitude\": td[10].text,\n",
    "        \"Location\": td[11].text[1:] #realmente hay que hacer una transformación 64b\n",
    "        \n",
    "    }"
   ]
  },
  {
   "cell_type": "code",
   "execution_count": 129,
   "metadata": {
    "scrolled": true
   },
   "outputs": [
    {
     "data": {
      "text/plain": [
       "{'Date': '2020-04-09',\n",
       " 'Time': '16:57:16.036min ago',\n",
       " 'Latitude': '7.38',\n",
       " 'Longitude': '129.39',\n",
       " 'Magnitude': '4.6',\n",
       " 'Location': 'KEPULAUAN BABAR, INDONESIA'}"
      ]
     },
     "execution_count": 129,
     "metadata": {},
     "output_type": "execute_result"
    }
   ],
   "source": [
    "structureLine(rows[4]) # funciona!"
   ]
  },
  {
   "cell_type": "code",
   "execution_count": 124,
   "metadata": {},
   "outputs": [],
   "source": [
    "# Aplicamos la función a todas las filas\n",
    "earthquakes = list(map(structureLine, rows[4:24]))"
   ]
  },
  {
   "cell_type": "code",
   "execution_count": 127,
   "metadata": {},
   "outputs": [
    {
     "data": {
      "text/html": [
       "<div>\n",
       "<style scoped>\n",
       "    .dataframe tbody tr th:only-of-type {\n",
       "        vertical-align: middle;\n",
       "    }\n",
       "\n",
       "    .dataframe tbody tr th {\n",
       "        vertical-align: top;\n",
       "    }\n",
       "\n",
       "    .dataframe thead th {\n",
       "        text-align: right;\n",
       "    }\n",
       "</style>\n",
       "<table border=\"1\" class=\"dataframe\">\n",
       "  <thead>\n",
       "    <tr style=\"text-align: right;\">\n",
       "      <th></th>\n",
       "      <th>Date</th>\n",
       "      <th>Time</th>\n",
       "      <th>Latitude</th>\n",
       "      <th>Longitude</th>\n",
       "      <th>Magnitude</th>\n",
       "      <th>Location</th>\n",
       "    </tr>\n",
       "  </thead>\n",
       "  <tbody>\n",
       "    <tr>\n",
       "      <th>0</th>\n",
       "      <td>2020-04-09</td>\n",
       "      <td>16:57:16.036min ago</td>\n",
       "      <td>7.38</td>\n",
       "      <td>129.39</td>\n",
       "      <td>4.6</td>\n",
       "      <td>KEPULAUAN BABAR, INDONESIA</td>\n",
       "    </tr>\n",
       "    <tr>\n",
       "      <th>1</th>\n",
       "      <td>2020-04-09</td>\n",
       "      <td>16:50:33.243min ago</td>\n",
       "      <td>33.25</td>\n",
       "      <td>116.64</td>\n",
       "      <td>2.1</td>\n",
       "      <td>SOUTHERN CALIFORNIA</td>\n",
       "    </tr>\n",
       "    <tr>\n",
       "      <th>2</th>\n",
       "      <td>2020-04-09</td>\n",
       "      <td>16:30:28.81hr 03min ago</td>\n",
       "      <td>42.11</td>\n",
       "      <td>20.70</td>\n",
       "      <td>2.4</td>\n",
       "      <td>KOSOVO *</td>\n",
       "    </tr>\n",
       "    <tr>\n",
       "      <th>3</th>\n",
       "      <td>2020-04-09</td>\n",
       "      <td>16:25:02.01hr 08min ago</td>\n",
       "      <td>15.76</td>\n",
       "      <td>119.18</td>\n",
       "      <td>3.6</td>\n",
       "      <td>LUZON, PHILIPPINES</td>\n",
       "    </tr>\n",
       "    <tr>\n",
       "      <th>4</th>\n",
       "      <td>2020-04-09</td>\n",
       "      <td>16:23:08.81hr 10min ago</td>\n",
       "      <td>19.20</td>\n",
       "      <td>155.42</td>\n",
       "      <td>2.0</td>\n",
       "      <td>ISLAND OF HAWAII, HAWAII</td>\n",
       "    </tr>\n",
       "    <tr>\n",
       "      <th>5</th>\n",
       "      <td>2020-04-09</td>\n",
       "      <td>16:19:25.91hr 14min ago</td>\n",
       "      <td>45.88</td>\n",
       "      <td>16.01</td>\n",
       "      <td>2.3</td>\n",
       "      <td>CROATIA</td>\n",
       "    </tr>\n",
       "    <tr>\n",
       "      <th>6</th>\n",
       "      <td>2020-04-09</td>\n",
       "      <td>16:09:45.01hr 24min ago</td>\n",
       "      <td>38.67</td>\n",
       "      <td>29.05</td>\n",
       "      <td>3.5</td>\n",
       "      <td>AZORES ISLANDS, PORTUGAL</td>\n",
       "    </tr>\n",
       "    <tr>\n",
       "      <th>7</th>\n",
       "      <td>2020-04-09</td>\n",
       "      <td>16:07:52.51hr 25min ago</td>\n",
       "      <td>30.77</td>\n",
       "      <td>177.04</td>\n",
       "      <td>5.0</td>\n",
       "      <td>KERMADEC ISLANDS, NEW ZEALAND</td>\n",
       "    </tr>\n",
       "    <tr>\n",
       "      <th>8</th>\n",
       "      <td>2020-04-09</td>\n",
       "      <td>15:46:30.01hr 47min ago</td>\n",
       "      <td>36.50</td>\n",
       "      <td>141.00</td>\n",
       "      <td>4.0</td>\n",
       "      <td>NEAR EAST COAST OF HONSHU, JAPAN</td>\n",
       "    </tr>\n",
       "    <tr>\n",
       "      <th>9</th>\n",
       "      <td>2020-04-09</td>\n",
       "      <td>15:36:38.41hr 57min ago</td>\n",
       "      <td>39.59</td>\n",
       "      <td>26.02</td>\n",
       "      <td>3.0</td>\n",
       "      <td>NEAR THE COAST OF WESTERN TURKEY</td>\n",
       "    </tr>\n",
       "    <tr>\n",
       "      <th>10</th>\n",
       "      <td>2020-04-09</td>\n",
       "      <td>15:31:53.32hr 01min ago</td>\n",
       "      <td>41.48</td>\n",
       "      <td>19.45</td>\n",
       "      <td>2.6</td>\n",
       "      <td>ADRIATIC SEA</td>\n",
       "    </tr>\n",
       "    <tr>\n",
       "      <th>11</th>\n",
       "      <td>2020-04-09</td>\n",
       "      <td>15:28:05.32hr 05min ago</td>\n",
       "      <td>36.26</td>\n",
       "      <td>95.20</td>\n",
       "      <td>2.1</td>\n",
       "      <td>OKLAHOMA</td>\n",
       "    </tr>\n",
       "    <tr>\n",
       "      <th>12</th>\n",
       "      <td>2020-04-09</td>\n",
       "      <td>15:15:31.02hr 18min ago</td>\n",
       "      <td>16.79</td>\n",
       "      <td>99.85</td>\n",
       "      <td>4.1</td>\n",
       "      <td>OFFSHORE GUERRERO, MEXICO</td>\n",
       "    </tr>\n",
       "    <tr>\n",
       "      <th>13</th>\n",
       "      <td>2020-04-09</td>\n",
       "      <td>15:13:51.82hr 19min ago</td>\n",
       "      <td>17.93</td>\n",
       "      <td>66.84</td>\n",
       "      <td>3.0</td>\n",
       "      <td>PUERTO RICO REGION</td>\n",
       "    </tr>\n",
       "    <tr>\n",
       "      <th>14</th>\n",
       "      <td>2020-04-09</td>\n",
       "      <td>15:06:23.62hr 27min ago</td>\n",
       "      <td>39.14</td>\n",
       "      <td>27.84</td>\n",
       "      <td>2.5</td>\n",
       "      <td>WESTERN TURKEY</td>\n",
       "    </tr>\n",
       "    <tr>\n",
       "      <th>15</th>\n",
       "      <td>2020-04-09</td>\n",
       "      <td>14:36:20.02hr 57min ago</td>\n",
       "      <td>9.62</td>\n",
       "      <td>112.48</td>\n",
       "      <td>3.8</td>\n",
       "      <td>SOUTH OF JAVA, INDONESIA</td>\n",
       "    </tr>\n",
       "    <tr>\n",
       "      <th>16</th>\n",
       "      <td>2020-04-09</td>\n",
       "      <td>14:22:41.03hr 11min ago</td>\n",
       "      <td>20.88</td>\n",
       "      <td>120.46</td>\n",
       "      <td>3.5</td>\n",
       "      <td>PHILIPPINE ISLANDS REGION</td>\n",
       "    </tr>\n",
       "    <tr>\n",
       "      <th>17</th>\n",
       "      <td>2020-04-09</td>\n",
       "      <td>14:16:49.83hr 16min ago</td>\n",
       "      <td>52.71</td>\n",
       "      <td>170.59</td>\n",
       "      <td>3.9</td>\n",
       "      <td>FOX ISLANDS, ALEUTIAN ISLANDS</td>\n",
       "    </tr>\n",
       "    <tr>\n",
       "      <th>18</th>\n",
       "      <td>2020-04-09</td>\n",
       "      <td>14:09:49.03hr 23min ago</td>\n",
       "      <td>8.71</td>\n",
       "      <td>122.01</td>\n",
       "      <td>2.8</td>\n",
       "      <td>FLORES REGION, INDONESIA</td>\n",
       "    </tr>\n",
       "    <tr>\n",
       "      <th>19</th>\n",
       "      <td>2020-04-09</td>\n",
       "      <td>14:06:51.93hr 26min ago</td>\n",
       "      <td>18.20</td>\n",
       "      <td>69.58</td>\n",
       "      <td>5.1</td>\n",
       "      <td>TARAPACA, CHILE</td>\n",
       "    </tr>\n",
       "  </tbody>\n",
       "</table>\n",
       "</div>"
      ],
      "text/plain": [
       "          Date                     Time Latitude Longitude Magnitude  \\\n",
       "0   2020-04-09      16:57:16.036min ago     7.38    129.39       4.6   \n",
       "1   2020-04-09      16:50:33.243min ago    33.25    116.64       2.1   \n",
       "2   2020-04-09  16:30:28.81hr 03min ago    42.11     20.70       2.4   \n",
       "3   2020-04-09  16:25:02.01hr 08min ago    15.76    119.18       3.6   \n",
       "4   2020-04-09  16:23:08.81hr 10min ago    19.20    155.42       2.0   \n",
       "5   2020-04-09  16:19:25.91hr 14min ago    45.88     16.01       2.3   \n",
       "6   2020-04-09  16:09:45.01hr 24min ago    38.67     29.05       3.5   \n",
       "7   2020-04-09  16:07:52.51hr 25min ago    30.77    177.04       5.0   \n",
       "8   2020-04-09  15:46:30.01hr 47min ago    36.50    141.00       4.0   \n",
       "9   2020-04-09  15:36:38.41hr 57min ago    39.59     26.02       3.0   \n",
       "10  2020-04-09  15:31:53.32hr 01min ago    41.48     19.45       2.6   \n",
       "11  2020-04-09  15:28:05.32hr 05min ago    36.26     95.20       2.1   \n",
       "12  2020-04-09  15:15:31.02hr 18min ago    16.79     99.85       4.1   \n",
       "13  2020-04-09  15:13:51.82hr 19min ago    17.93     66.84       3.0   \n",
       "14  2020-04-09  15:06:23.62hr 27min ago    39.14     27.84       2.5   \n",
       "15  2020-04-09  14:36:20.02hr 57min ago     9.62    112.48       3.8   \n",
       "16  2020-04-09  14:22:41.03hr 11min ago    20.88    120.46       3.5   \n",
       "17  2020-04-09  14:16:49.83hr 16min ago    52.71    170.59       3.9   \n",
       "18  2020-04-09  14:09:49.03hr 23min ago     8.71    122.01       2.8   \n",
       "19  2020-04-09  14:06:51.93hr 26min ago    18.20     69.58       5.1   \n",
       "\n",
       "                            Location  \n",
       "0         KEPULAUAN BABAR, INDONESIA  \n",
       "1                SOUTHERN CALIFORNIA  \n",
       "2                           KOSOVO *  \n",
       "3                 LUZON, PHILIPPINES  \n",
       "4           ISLAND OF HAWAII, HAWAII  \n",
       "5                            CROATIA  \n",
       "6           AZORES ISLANDS, PORTUGAL  \n",
       "7      KERMADEC ISLANDS, NEW ZEALAND  \n",
       "8   NEAR EAST COAST OF HONSHU, JAPAN  \n",
       "9   NEAR THE COAST OF WESTERN TURKEY  \n",
       "10                      ADRIATIC SEA  \n",
       "11                          OKLAHOMA  \n",
       "12         OFFSHORE GUERRERO, MEXICO  \n",
       "13                PUERTO RICO REGION  \n",
       "14                    WESTERN TURKEY  \n",
       "15          SOUTH OF JAVA, INDONESIA  \n",
       "16         PHILIPPINE ISLANDS REGION  \n",
       "17     FOX ISLANDS, ALEUTIAN ISLANDS  \n",
       "18          FLORES REGION, INDONESIA  \n",
       "19                   TARAPACA, CHILE  "
      ]
     },
     "execution_count": 127,
     "metadata": {},
     "output_type": "execute_result"
    }
   ],
   "source": [
    "# Convertimos la lista en un df\n",
    "earthquakes_df = pd.DataFrame(earthquakes)\n",
    "earthquakes_df"
   ]
  },
  {
   "cell_type": "markdown",
   "metadata": {},
   "source": [
    "#### 9. Display the date, days, title, city, country of next 25 hackathon events as a Pandas dataframe table"
   ]
  },
  {
   "cell_type": "code",
   "execution_count": 174,
   "metadata": {},
   "outputs": [],
   "source": [
    "# This is the url you will scrape in this exercise\n",
    "url ='https://hackevents.co/hackathons'"
   ]
  },
  {
   "cell_type": "code",
   "execution_count": 175,
   "metadata": {},
   "outputs": [],
   "source": [
    "#your code\n",
    "\n",
    "res = requests.get(url) #download content\n",
    "res.text #parsing data into text\n",
    "soup = BeautifulSoup(res.text)"
   ]
  },
  {
   "cell_type": "markdown",
   "metadata": {},
   "source": [
    "#### 10. Count number of tweets by a given Twitter account."
   ]
  },
  {
   "cell_type": "markdown",
   "metadata": {},
   "source": [
    "You will need to include a ***try/except block*** for account names not found. \n",
    "<br>***Hint:*** the program should count the number of tweets for any provided account"
   ]
  },
  {
   "cell_type": "code",
   "execution_count": null,
   "metadata": {},
   "outputs": [],
   "source": [
    "# This is the url you will scrape in this exercise \n",
    "# You will need to add the account credentials to this url\n",
    "url = 'https://twitter.com/'"
   ]
  },
  {
   "cell_type": "code",
   "execution_count": null,
   "metadata": {},
   "outputs": [],
   "source": [
    "#your code"
   ]
  },
  {
   "cell_type": "markdown",
   "metadata": {},
   "source": [
    "#### 11. Number of followers of a given twitter account"
   ]
  },
  {
   "cell_type": "markdown",
   "metadata": {},
   "source": [
    "You will need to include a ***try/except block*** in case account/s name not found. \n",
    "<br>***Hint:*** the program should count the followers for any provided account"
   ]
  },
  {
   "cell_type": "code",
   "execution_count": 56,
   "metadata": {},
   "outputs": [],
   "source": [
    "# This is the url you will scrape in this exercise \n",
    "# You will need to add the account credentials to this url\n",
    "url = 'https://twitter.com/'"
   ]
  },
  {
   "cell_type": "code",
   "execution_count": 57,
   "metadata": {},
   "outputs": [],
   "source": [
    "#your code\n"
   ]
  },
  {
   "cell_type": "markdown",
   "metadata": {},
   "source": [
    "#### 12. List all language names and number of related articles in the order they appear in wikipedia.org"
   ]
  },
  {
   "cell_type": "code",
   "execution_count": 50,
   "metadata": {},
   "outputs": [],
   "source": [
    "# This is the url you will scrape in this exercise\n",
    "url = 'https://www.wikipedia.org/'"
   ]
  },
  {
   "cell_type": "code",
   "execution_count": 51,
   "metadata": {},
   "outputs": [],
   "source": [
    "#your code\n",
    "\n",
    "res = requests.get(url) #download content\n",
    "res.text #parsing data into text\n",
    "soup = BeautifulSoup(res.text)"
   ]
  },
  {
   "cell_type": "code",
   "execution_count": 52,
   "metadata": {},
   "outputs": [],
   "source": [
    "# Buscamos los tags \"a\"\n",
    "atags = soup.find_all(\"a\")"
   ]
  },
  {
   "cell_type": "code",
   "execution_count": 53,
   "metadata": {},
   "outputs": [],
   "source": [
    "# Definimos una función que obtenga el idioma y el número de artículos\n",
    "\n",
    "def wikilanguage (tag):\n",
    "    idioma = tag.strong.text\n",
    "    #tag[0][\"title\"] # aquí también podemos ver el idioma\n",
    "    articulos = tag.small.text \n",
    "    return idioma, articulos"
   ]
  },
  {
   "cell_type": "code",
   "execution_count": 54,
   "metadata": {},
   "outputs": [
    {
     "data": {
      "text/plain": [
       "[('English', '6\\xa0050\\xa0000+ articles'),\n",
       " ('EspaÃ±ol', '1\\xa0588\\xa0000+ artÃ\\xadculos'),\n",
       " ('æ\\x97¥æ\\x9c¬èª\\x9e', '1\\xa0198\\xa0000+ è¨\\x98äº\\x8b'),\n",
       " ('Deutsch', '2\\xa0416\\xa0000+ Artikel'),\n",
       " ('FranÃ§ais', '2\\xa0197\\xa0000+ articles'),\n",
       " ('Ð\\xa0Ñ\\x83Ñ\\x81Ñ\\x81ÐºÐ¸Ð¹', '1\\xa0611\\xa0000+ Ñ\\x81Ñ\\x82Ð°Ñ\\x82ÐµÐ¹'),\n",
       " ('Italiano', '1\\xa0595\\xa0000+ voci'),\n",
       " ('ä¸\\xadæ\\x96\\x87', '1\\xa0109\\xa0000+ æ¢\\x9dç\\x9b®'),\n",
       " ('PortuguÃªs', '1\\xa0027\\xa0000+ artigos'),\n",
       " ('Polski', '1\\xa0399\\xa0000+ haseÅ\\x82')]"
      ]
     },
     "execution_count": 54,
     "metadata": {},
     "output_type": "execute_result"
    }
   ],
   "source": [
    "# Aplicamos la función a todas las filas\n",
    "languages = list(map(wikilanguage, atags[0:10]))\n",
    "languages"
   ]
  },
  {
   "cell_type": "markdown",
   "metadata": {},
   "source": [
    "#### 13. A list with the different kind of datasets available in data.gov.uk "
   ]
  },
  {
   "cell_type": "code",
   "execution_count": 44,
   "metadata": {},
   "outputs": [],
   "source": [
    "# This is the url you will scrape in this exercise\n",
    "url = 'https://data.gov.uk/'"
   ]
  },
  {
   "cell_type": "code",
   "execution_count": 45,
   "metadata": {},
   "outputs": [],
   "source": [
    "#your code \n",
    "\n",
    "res = requests.get(url) #download content\n",
    "res.text #parsing data into text\n",
    "soup = BeautifulSoup(res.text)"
   ]
  },
  {
   "cell_type": "code",
   "execution_count": 46,
   "metadata": {},
   "outputs": [],
   "source": [
    "# Buscamos los tags \"a\"\n",
    "atag = soup.find_all(\"a\")"
   ]
  },
  {
   "cell_type": "code",
   "execution_count": 47,
   "metadata": {},
   "outputs": [],
   "source": [
    "def datatopic(tag):\n",
    "    return ' '.join(tag[\"href\"].split(\"=\")[1].split(\"+\"))"
   ]
  },
  {
   "cell_type": "code",
   "execution_count": 48,
   "metadata": {},
   "outputs": [
    {
     "data": {
      "text/plain": [
       "'Business and economy'"
      ]
     },
     "execution_count": 48,
     "metadata": {},
     "output_type": "execute_result"
    }
   ],
   "source": [
    "datatopic(atag[10])"
   ]
  },
  {
   "cell_type": "code",
   "execution_count": 49,
   "metadata": {},
   "outputs": [
    {
     "data": {
      "text/plain": [
       "['Business and economy',\n",
       " 'Crime and justice',\n",
       " 'Defence',\n",
       " 'Education',\n",
       " 'Environment',\n",
       " 'Government',\n",
       " 'Government spending',\n",
       " 'Health',\n",
       " 'Mapping',\n",
       " 'Society',\n",
       " 'Towns and cities']"
      ]
     },
     "execution_count": 49,
     "metadata": {},
     "output_type": "execute_result"
    }
   ],
   "source": [
    "datasets = list(map(datatopic, atag[10:21]))\n",
    "datasets"
   ]
  },
  {
   "cell_type": "markdown",
   "metadata": {},
   "source": [
    "#### 14. Top 10 languages by number of native speakers stored in a Pandas Dataframe"
   ]
  },
  {
   "cell_type": "code",
   "execution_count": 39,
   "metadata": {},
   "outputs": [],
   "source": [
    "# This is the url you will scrape in this exercise\n",
    "url = 'https://en.wikipedia.org/wiki/List_of_languages_by_number_of_native_speakers'"
   ]
  },
  {
   "cell_type": "code",
   "execution_count": 40,
   "metadata": {},
   "outputs": [],
   "source": [
    "#your code\n",
    "\n",
    "res = requests.get(url) # download content\n",
    "res.text # parsing data into text\n",
    "soup = BeautifulSoup(res.text)"
   ]
  },
  {
   "cell_type": "code",
   "execution_count": 41,
   "metadata": {},
   "outputs": [],
   "source": [
    "# La información que buscamos está contenida en una tabla, por lo que buscamos todos los tags de \"table\":\n",
    "tables = soup.find_all(\"table\")\n",
    "#tables[0] # Trabajaremos con la primera tabla\n",
    "rows = tables[0].find_all(\"tr\")[1:] # La primera línea es la cabecera de la tabla"
   ]
  },
  {
   "cell_type": "code",
   "execution_count": 42,
   "metadata": {},
   "outputs": [],
   "source": [
    "def structurerow(row):\n",
    "    td = row.find_all(\"td\")    \n",
    "    return {\n",
    "        \"Ranking\": td[0].text.strip(),\n",
    "        \"Language\":  td[1].text.strip(),\n",
    "        \"Speakers (millions)\": td[2].text.strip()        \n",
    "    }"
   ]
  },
  {
   "cell_type": "code",
   "execution_count": 43,
   "metadata": {},
   "outputs": [
    {
     "data": {
      "text/html": [
       "<div>\n",
       "<style scoped>\n",
       "    .dataframe tbody tr th:only-of-type {\n",
       "        vertical-align: middle;\n",
       "    }\n",
       "\n",
       "    .dataframe tbody tr th {\n",
       "        vertical-align: top;\n",
       "    }\n",
       "\n",
       "    .dataframe thead th {\n",
       "        text-align: right;\n",
       "    }\n",
       "</style>\n",
       "<table border=\"1\" class=\"dataframe\">\n",
       "  <thead>\n",
       "    <tr style=\"text-align: right;\">\n",
       "      <th></th>\n",
       "      <th>Ranking</th>\n",
       "      <th>Language</th>\n",
       "      <th>Speakers (millions)</th>\n",
       "    </tr>\n",
       "  </thead>\n",
       "  <tbody>\n",
       "    <tr>\n",
       "      <th>0</th>\n",
       "      <td>1</td>\n",
       "      <td>Mandarin Chinese</td>\n",
       "      <td>918</td>\n",
       "    </tr>\n",
       "    <tr>\n",
       "      <th>1</th>\n",
       "      <td>2</td>\n",
       "      <td>Spanish</td>\n",
       "      <td>480</td>\n",
       "    </tr>\n",
       "    <tr>\n",
       "      <th>2</th>\n",
       "      <td>3</td>\n",
       "      <td>English</td>\n",
       "      <td>379</td>\n",
       "    </tr>\n",
       "    <tr>\n",
       "      <th>3</th>\n",
       "      <td>4</td>\n",
       "      <td>Hindi (Sanskritised Hindustani)[9]</td>\n",
       "      <td>341</td>\n",
       "    </tr>\n",
       "    <tr>\n",
       "      <th>4</th>\n",
       "      <td>5</td>\n",
       "      <td>Bengali</td>\n",
       "      <td>228</td>\n",
       "    </tr>\n",
       "    <tr>\n",
       "      <th>5</th>\n",
       "      <td>6</td>\n",
       "      <td>Portuguese</td>\n",
       "      <td>221</td>\n",
       "    </tr>\n",
       "    <tr>\n",
       "      <th>6</th>\n",
       "      <td>7</td>\n",
       "      <td>Russian</td>\n",
       "      <td>154</td>\n",
       "    </tr>\n",
       "    <tr>\n",
       "      <th>7</th>\n",
       "      <td>8</td>\n",
       "      <td>Japanese</td>\n",
       "      <td>128</td>\n",
       "    </tr>\n",
       "    <tr>\n",
       "      <th>8</th>\n",
       "      <td>9</td>\n",
       "      <td>Western Punjabi[10]</td>\n",
       "      <td>92.7</td>\n",
       "    </tr>\n",
       "    <tr>\n",
       "      <th>9</th>\n",
       "      <td>10</td>\n",
       "      <td>Marathi</td>\n",
       "      <td>83.1</td>\n",
       "    </tr>\n",
       "  </tbody>\n",
       "</table>\n",
       "</div>"
      ],
      "text/plain": [
       "  Ranking                            Language Speakers (millions)\n",
       "0       1                    Mandarin Chinese                 918\n",
       "1       2                             Spanish                 480\n",
       "2       3                             English                 379\n",
       "3       4  Hindi (Sanskritised Hindustani)[9]                 341\n",
       "4       5                             Bengali                 228\n",
       "5       6                          Portuguese                 221\n",
       "6       7                             Russian                 154\n",
       "7       8                            Japanese                 128\n",
       "8       9                 Western Punjabi[10]                92.7\n",
       "9      10                             Marathi                83.1"
      ]
     },
     "execution_count": 43,
     "metadata": {},
     "output_type": "execute_result"
    }
   ],
   "source": [
    "toplanguages = list(map(structurerow, rows[0:10]))\n",
    "toplanguages_df = pd.DataFrame(toplanguages)\n",
    "toplanguages_df"
   ]
  },
  {
   "cell_type": "markdown",
   "metadata": {},
   "source": [
    "### BONUS QUESTIONS"
   ]
  },
  {
   "cell_type": "markdown",
   "metadata": {},
   "source": [
    "#### Scrape a certain number of tweets of a given Twitter account."
   ]
  },
  {
   "cell_type": "code",
   "execution_count": null,
   "metadata": {},
   "outputs": [],
   "source": [
    "# This is the url you will scrape in this exercise \n",
    "# You will need to add the account credentials to this url\n",
    "url = 'https://twitter.com/'"
   ]
  },
  {
   "cell_type": "code",
   "execution_count": null,
   "metadata": {},
   "outputs": [],
   "source": [
    "# your code"
   ]
  },
  {
   "cell_type": "markdown",
   "metadata": {},
   "source": [
    "#### IMDB's Top 250 data (movie name, Initial release, director name and stars) as a pandas dataframe"
   ]
  },
  {
   "cell_type": "code",
   "execution_count": null,
   "metadata": {},
   "outputs": [],
   "source": [
    "# This is the url you will scrape in this exercise \n",
    "url = 'https://www.imdb.com/chart/top'"
   ]
  },
  {
   "cell_type": "code",
   "execution_count": null,
   "metadata": {},
   "outputs": [],
   "source": [
    "# your code"
   ]
  },
  {
   "cell_type": "markdown",
   "metadata": {},
   "source": [
    "#### Movie name, year and a brief summary of the top 10 random movies (IMDB) as a pandas dataframe."
   ]
  },
  {
   "cell_type": "code",
   "execution_count": null,
   "metadata": {},
   "outputs": [],
   "source": [
    "#This is the url you will scrape in this exercise\n",
    "url = 'http://www.imdb.com/chart/top'"
   ]
  },
  {
   "cell_type": "code",
   "execution_count": null,
   "metadata": {},
   "outputs": [],
   "source": [
    "#your code"
   ]
  },
  {
   "cell_type": "markdown",
   "metadata": {},
   "source": [
    "#### Find the live weather report (temperature, wind speed, description and weather) of a given city."
   ]
  },
  {
   "cell_type": "code",
   "execution_count": null,
   "metadata": {},
   "outputs": [],
   "source": [
    "#https://openweathermap.org/current\n",
    "city = city=input('Enter the city:')\n",
    "url = 'http://api.openweathermap.org/data/2.5/weather?'+'q='+city+'&APPID=b35975e18dc93725acb092f7272cc6b8&units=metric'"
   ]
  },
  {
   "cell_type": "code",
   "execution_count": null,
   "metadata": {},
   "outputs": [],
   "source": [
    "# your code"
   ]
  },
  {
   "cell_type": "markdown",
   "metadata": {},
   "source": [
    "#### Book name,price and stock availability as a pandas dataframe."
   ]
  },
  {
   "cell_type": "code",
   "execution_count": null,
   "metadata": {},
   "outputs": [],
   "source": [
    "# This is the url you will scrape in this exercise. \n",
    "# It is a fictional bookstore created to be scraped. \n",
    "url = 'http://books.toscrape.com/'"
   ]
  },
  {
   "cell_type": "code",
   "execution_count": null,
   "metadata": {},
   "outputs": [],
   "source": [
    "#your code"
   ]
  }
 ],
 "metadata": {
  "kernelspec": {
   "display_name": "Python 3",
   "language": "python",
   "name": "python3"
  },
  "language_info": {
   "codemirror_mode": {
    "name": "ipython",
    "version": 3
   },
   "file_extension": ".py",
   "mimetype": "text/x-python",
   "name": "python",
   "nbconvert_exporter": "python",
   "pygments_lexer": "ipython3",
   "version": "3.6.9"
  }
 },
 "nbformat": 4,
 "nbformat_minor": 2
}
