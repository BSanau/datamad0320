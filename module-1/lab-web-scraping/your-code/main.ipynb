{
 "cells": [
  {
   "cell_type": "markdown",
   "metadata": {},
   "source": [
    "# Web Scraping Lab\n",
    "\n",
    "You will find in this notebook some scrapy exercises to practise your scraping skills.\n",
    "\n",
    "**Tips:**\n",
    "\n",
    "- Check the response status code for each request to ensure you have obtained the intended contennt.\n",
    "- Print the response text in each request to understand the kind of info you are getting and its format.\n",
    "- Check for patterns in the response text to extract the data/info requested in each question.\n",
    "- Visit each url and take a look at its source through Chrome DevTools. You'll need to identify the html tags, special class names etc. used for the html content you are expected to extract."
   ]
  },
  {
   "cell_type": "markdown",
   "metadata": {},
   "source": [
    "- [Requests library](http://docs.python-requests.org/en/master/#the-user-guide) documentation \n",
    "- [Beautiful Soup Doc](https://www.crummy.com/software/BeautifulSoup/bs4/doc/)\n",
    "- [Urllib](https://docs.python.org/3/library/urllib.html#module-urllib)\n",
    "- [re lib](https://docs.python.org/3/library/re.html)\n",
    "- [lxml lib](https://lxml.de/)\n",
    "- [Scrapy](https://scrapy.org/)\n",
    "- [List of HTTP status codes](https://en.wikipedia.org/wiki/List_of_HTTP_status_codes)\n",
    "- [HTML basics](http://www.simplehtmlguide.com/cheatsheet.php)\n",
    "- [CSS basics](https://www.cssbasics.com/#page_start)"
   ]
  },
  {
   "cell_type": "markdown",
   "metadata": {},
   "source": [
    "#### Below are the libraries and modules you may need. `requests`,  `BeautifulSoup` and `pandas` are imported for you. If you prefer to use additional libraries feel free to uncomment them."
   ]
  },
  {
   "cell_type": "code",
   "execution_count": 1,
   "metadata": {},
   "outputs": [],
   "source": [
    "import requests\n",
    "from bs4 import BeautifulSoup\n",
    "import pandas as pd\n",
    "# from pprint import pprint\n",
    "# from lxml import html\n",
    "# from lxml.html import fromstring\n",
    "# import urllib.request\n",
    "# from urllib.request import urlopen\n",
    "# import random\n",
    "import re\n",
    "# import scrapy\n",
    "import base64, codecs"
   ]
  },
  {
   "cell_type": "markdown",
   "metadata": {},
   "source": [
    "#### 1. Download, parse (using BeautifulSoup), and print the content from the Trending Developers page from GitHub:"
   ]
  },
  {
   "cell_type": "code",
   "execution_count": 2,
   "metadata": {},
   "outputs": [],
   "source": [
    "# This is the url you will scrape in this exercise\n",
    "url = 'https://github.com/trending/developers'"
   ]
  },
  {
   "cell_type": "code",
   "execution_count": 3,
   "metadata": {},
   "outputs": [],
   "source": [
    "#your code\n",
    "\n",
    "res = requests.get(url) #download content\n",
    "res.text #parsing data into text\n",
    "soup = BeautifulSoup(res.text)"
   ]
  },
  {
   "cell_type": "code",
   "execution_count": 4,
   "metadata": {},
   "outputs": [],
   "source": [
    "#soup.contents #printing the content"
   ]
  },
  {
   "cell_type": "markdown",
   "metadata": {},
   "source": [
    "#### 2. Display the names of the trending developers retrieved in the previous step.\n",
    "\n",
    "Your output should be a Python list of developer names. Each name should not contain any html tag.\n",
    "\n",
    "**Instructions:**\n",
    "\n",
    "1. Find out the html tag and class names used for the developer names. You can achieve this using Chrome DevTools.\n",
    "\n",
    "1. Use BeautifulSoup to extract all the html elements that contain the developer names.\n",
    "\n",
    "1. Use string manipulation techniques to replace whitespaces and linebreaks (i.e. `\\n`) in the *text* of each html element. Use a list to store the clean names.\n",
    "\n",
    "1. Print the list of names.\n",
    "\n",
    "Your output should look like below:\n",
    "\n",
    "```\n",
    "['trimstray (@trimstray)',\n",
    " 'joewalnes (JoeWalnes)',\n",
    " 'charlax (Charles-AxelDein)',\n",
    " 'ForrestKnight (ForrestKnight)',\n",
    " 'revery-ui (revery-ui)',\n",
    " 'alibaba (Alibaba)',\n",
    " 'Microsoft (Microsoft)',\n",
    " 'github (GitHub)',\n",
    " 'facebook (Facebook)',\n",
    " 'boazsegev (Bo)',\n",
    " 'google (Google)',\n",
    " 'cloudfetch',\n",
    " 'sindresorhus (SindreSorhus)',\n",
    " 'tensorflow',\n",
    " 'apache (TheApacheSoftwareFoundation)',\n",
    " 'DevonCrawford (DevonCrawford)',\n",
    " 'ARMmbed (ArmMbed)',\n",
    " 'vuejs (vuejs)',\n",
    " 'fastai (fast.ai)',\n",
    " 'QiShaoXuan (Qi)',\n",
    " 'joelparkerhenderson (JoelParkerHenderson)',\n",
    " 'torvalds (LinusTorvalds)',\n",
    " 'CyC2018',\n",
    " 'komeiji-satori (神楽坂覚々)',\n",
    " 'script-8']\n",
    " ```"
   ]
  },
  {
   "cell_type": "code",
   "execution_count": 5,
   "metadata": {},
   "outputs": [],
   "source": [
    "# your-code\n",
    "\n",
    "articles = soup.find_all(\"article\") # La información que buscamos está dentro de un tag \"article\"\n",
    "#print(articles)\n",
    "[article.get(\"class\") for article in articles] # Buscamos el tipo de clase dentro de un tag \"article\"\n",
    "articles = articles[::2] # Solo nos interesan los articles con clase"
   ]
  },
  {
   "cell_type": "code",
   "execution_count": 6,
   "metadata": {},
   "outputs": [],
   "source": [
    "art = soup.select(\"article.Box-row.d-flex\") # Seleccionamos la clase dentro del tag article"
   ]
  },
  {
   "cell_type": "code",
   "execution_count": 7,
   "metadata": {},
   "outputs": [],
   "source": [
    "# Definimos una función para obtener la información que buscamos\n",
    "\n",
    "def gettinginfo (art):\n",
    "    alias = art.find_all(\"a\")[2][\"href\"][1:]\n",
    "    nombre = art.find_all(\"a\")[2].text.strip()\n",
    "    return nombre, alias"
   ]
  },
  {
   "cell_type": "code",
   "execution_count": 8,
   "metadata": {},
   "outputs": [
    {
     "data": {
      "text/plain": [
       "[('Jeremy Apthorp', 'nornagon'),\n",
       " ('Jonah Williams', 'jonahwilliams'),\n",
       " ('Felix Angelov', 'felangel'),\n",
       " ('chencheng (云谦)', 'sorrycc'),\n",
       " ('Sebastián Ramírez', 'tiangolo'),\n",
       " ('Mariusz Nowak', 'medikoo'),\n",
       " ('Dawid Urbaniak', 'Trancever'),\n",
       " ('Jeffrey Su', 'JeffreySu'),\n",
       " ('Hugo Bowne-Anderson', 'hugobowne'),\n",
       " ('Felipe Fialho', 'felipefialho'),\n",
       " ('Yuri Shkuro', 'yurishkuro'),\n",
       " ('R.I.Pienaar', 'ripienaar'),\n",
       " ('Zeno Rocha', 'zenorocha'),\n",
       " ('Maxim Kulkin', 'maximkulkin'),\n",
       " ('Robert Mosolgo', 'rmosolgo'),\n",
       " ('Pierre Krieger', 'tomaka'),\n",
       " ('Iman', 'imanghafoori1'),\n",
       " ('Luis Alvarez D.', 'lfades'),\n",
       " ('Matic Zavadlal', 'maticzav'),\n",
       " ('Marten Seemann', 'marten-seemann'),\n",
       " ('David Peter', 'sharkdp'),\n",
       " ('Jake Wharton', 'JakeWharton'),\n",
       " ('Jeff Bezanson', 'JeffBezanson'),\n",
       " ('James Munnelly', 'munnerz'),\n",
       " ('Matthew Johnson', 'mattjj')]"
      ]
     },
     "execution_count": 8,
     "metadata": {},
     "output_type": "execute_result"
    }
   ],
   "source": [
    "# Aplicamos la función a todas las filas\n",
    "developpers = list(map(gettinginfo, art))\n",
    "developpers"
   ]
  },
  {
   "cell_type": "code",
   "execution_count": 9,
   "metadata": {},
   "outputs": [
    {
     "data": {
      "text/plain": [
       "'\\n# Otra manera de obtener el alias\\narticles = soup.find_all(\"article\") # Vemos que hay un Tag <article> para cada desarrollador\\narticles = articles[::2] # Los artículos en posición impar están vacíos\\n# Dentro de cada artículo, hay un \"id\" y una \"class\", en el \"id\" figura el nombre\\nlistdev = [article.get(\"id\")[3:] for article in articles]\\nlistdev\\n'"
      ]
     },
     "execution_count": 9,
     "metadata": {},
     "output_type": "execute_result"
    }
   ],
   "source": [
    "\"\"\"\n",
    "# Otra manera de obtener el alias\n",
    "articles = soup.find_all(\"article\") # Vemos que hay un Tag <article> para cada desarrollador\n",
    "articles = articles[::2] # Los artículos en posición impar están vacíos\n",
    "# Dentro de cada artículo, hay un \"id\" y una \"class\", en el \"id\" figura el nombre\n",
    "listdev = [article.get(\"id\")[3:] for article in articles]\n",
    "listdev\n",
    "\"\"\""
   ]
  },
  {
   "cell_type": "markdown",
   "metadata": {},
   "source": [
    "#### 3. Display the trending Python repositories in GitHub\n",
    "\n",
    "The steps to solve this problem is similar to the previous one except that you need to find out the repository names instead of developer names."
   ]
  },
  {
   "cell_type": "code",
   "execution_count": 10,
   "metadata": {},
   "outputs": [],
   "source": [
    "# This is the url you will scrape in this exercise\n",
    "url = 'https://github.com/trending/python?since=daily'"
   ]
  },
  {
   "cell_type": "code",
   "execution_count": 11,
   "metadata": {},
   "outputs": [],
   "source": [
    "# your-code\n",
    "\n",
    "res = requests.get(url) #download content\n",
    "res.text #parsing data into text\n",
    "soup = BeautifulSoup(res.text)"
   ]
  },
  {
   "cell_type": "code",
   "execution_count": 12,
   "metadata": {},
   "outputs": [],
   "source": [
    "articles = soup.select(\"article > h1\")\n",
    "#articles = soup.select(\"h1 a\")[0][\"href\"] # Otra manera de obtener ambos datos"
   ]
  },
  {
   "cell_type": "code",
   "execution_count": 13,
   "metadata": {},
   "outputs": [],
   "source": [
    "def contenido (article):\n",
    "    content = article.text\n",
    "    content = content.strip().split(\" /\\n\\n\\n\\n      \")\n",
    "    \n",
    "    return content[0], content[1]"
   ]
  },
  {
   "cell_type": "code",
   "execution_count": 14,
   "metadata": {},
   "outputs": [
    {
     "data": {
      "text/plain": [
       "[('rojter-tech', 'pluradl.py'),\n",
       " ('caoscott', 'SReC'),\n",
       " ('0voice', 'interview_internal_reference'),\n",
       " ('ageitgey', 'face_recognition'),\n",
       " ('manchenkoff', 'skillbox-async-chat'),\n",
       " ('XiaohangZhan', 'deocclusion'),\n",
       " ('google-research', 'text-to-text-transfer-transformer'),\n",
       " ('kon9chunkit', 'GitHub-Chinese-Top-Charts'),\n",
       " ('tiangolo', 'fastapi'),\n",
       " ('CorentinJ', 'Real-Time-Voice-Cloning'),\n",
       " ('home-assistant', 'core'),\n",
       " ('alex04072000', 'ObstructionRemoval'),\n",
       " ('pcomputo', 'Whole-Foods-Delivery-Slot'),\n",
       " ('CharlesPikachu', 'Games'),\n",
       " ('doccano', 'doccano'),\n",
       " ('google', 'jax'),\n",
       " ('hankcs', 'HanLP'),\n",
       " ('Sentdex', 'pygta5'),\n",
       " ('ray-project', 'ray'),\n",
       " ('Yelp', 'elastalert'),\n",
       " ('timgrossmann', 'InstaPy'),\n",
       " ('huggingface', 'transformers'),\n",
       " ('ikergarcia1996', 'Self-Driving-Car-in-Video-Games'),\n",
       " ('fizyr', 'keras-retinanet'),\n",
       " ('apache', 'airflow')]"
      ]
     },
     "execution_count": 14,
     "metadata": {},
     "output_type": "execute_result"
    }
   ],
   "source": [
    "[contenido(article) for article in articles]"
   ]
  },
  {
   "cell_type": "markdown",
   "metadata": {},
   "source": [
    "#### 4. Display all the image links from Walt Disney wikipedia page"
   ]
  },
  {
   "cell_type": "code",
   "execution_count": 15,
   "metadata": {},
   "outputs": [],
   "source": [
    "# This is the url you will scrape in this exercise\n",
    "url = 'https://en.wikipedia.org/wiki/Walt_Disney'"
   ]
  },
  {
   "cell_type": "code",
   "execution_count": 16,
   "metadata": {},
   "outputs": [],
   "source": [
    "#your code\n",
    "\n",
    "res = requests.get(url) #download content\n",
    "res.text #parsing data into text\n",
    "soup = BeautifulSoup(res.text)"
   ]
  },
  {
   "cell_type": "markdown",
   "metadata": {},
   "source": [
    "En la url, hay imágenes en la tabla de biografía y en el contenido. Buscamos las imágenes en la bibliografía: (no hace falta hacer esto, aparecen directamente en el contenido)."
   ]
  },
  {
   "cell_type": "code",
   "execution_count": 17,
   "metadata": {},
   "outputs": [],
   "source": [
    "#soup.select(\"table > tbody > tr\")[1].text #leyenda de la primera foto\n",
    "#photo1 = soup.select(\"table > tbody > tr\")[1].select(\"td > a\")[0][\"href\"] # Primera foto\n",
    "#photo2 = soup.select(\"table > tbody > tr\")[9].select(\"td > a\")[0][\"href\"] # Segunda foto\n",
    "#print(photo1)\n",
    "#print(photo2)"
   ]
  },
  {
   "cell_type": "markdown",
   "metadata": {},
   "source": [
    "Buscamos las imágenes del contenido."
   ]
  },
  {
   "cell_type": "code",
   "execution_count": 18,
   "metadata": {},
   "outputs": [],
   "source": [
    "# soup.find_all(\"img\")[0] # Pero no pone el link!"
   ]
  },
  {
   "cell_type": "code",
   "execution_count": 19,
   "metadata": {},
   "outputs": [
    {
     "data": {
      "text/plain": [
       "['/wiki/File:Walt_Disney_1946.JPG',\n",
       " '/wiki/File:Walt_Disney_1942_signature.svg',\n",
       " '/wiki/File:Walt_Disney_envelope_ca._1921.jpg',\n",
       " '/wiki/File:Trolley_Troubles_poster.jpg',\n",
       " '/wiki/File:Walt_Disney_and_his_cartoon_creation_%22Mickey_Mouse%22_-_National_Board_of_Review_Magazine.jpg',\n",
       " '/wiki/File:Steamboat-willie.jpg',\n",
       " '/wiki/File:Walt_Disney_1935.jpg',\n",
       " '/wiki/File:Walt_Disney_Snow_white_1937_trailer_screenshot_(13).jpg',\n",
       " '/wiki/File:Disney_drawing_goofy.jpg',\n",
       " '/wiki/File:DisneySchiphol1951.jpg',\n",
       " '/wiki/File:WaltDisneyplansDisneylandDec1954.jpg',\n",
       " '/wiki/File:Walt_disney_portrait_right.jpg',\n",
       " '/wiki/File:Walt_Disney_Grave.JPG',\n",
       " '/wiki/File:Roy_O._Disney_with_Company_at_Press_Conference.jpg',\n",
       " '/wiki/File:Disney_Display_Case.JPG',\n",
       " '/wiki/File:Disney1968.jpg',\n",
       " '/wiki/File:The_Walt_Disney_Company_Logo.svg',\n",
       " '/wiki/File:Animation_disc.svg',\n",
       " '/wiki/File:P_vip.svg',\n",
       " '/wiki/File:Magic_Kingdom_castle.jpg',\n",
       " '/wiki/File:Video-x-generic.svg',\n",
       " '/wiki/File:Flag_of_Los_Angeles_County,_California.svg',\n",
       " '/wiki/File:Blank_television_set.svg',\n",
       " '/wiki/File:Flag_of_the_United_States.svg']"
      ]
     },
     "execution_count": 19,
     "metadata": {},
     "output_type": "execute_result"
    }
   ],
   "source": [
    "atag = soup.find_all(\"a\")\n",
    "[tag[\"href\"] for tag in atag if tag.get(\"class\")==[\"image\"]]"
   ]
  },
  {
   "cell_type": "markdown",
   "metadata": {},
   "source": [
    "#### 5. Retrieve an arbitary Wikipedia page of \"Python\" and create a list of links on that page"
   ]
  },
  {
   "cell_type": "code",
   "execution_count": 66,
   "metadata": {},
   "outputs": [],
   "source": [
    "# This is the url you will scrape in this exercise\n",
    "url ='https://en.wikipedia.org/wiki/Python' "
   ]
  },
  {
   "cell_type": "code",
   "execution_count": 67,
   "metadata": {},
   "outputs": [],
   "source": [
    "#your code\n",
    "\n",
    "res = requests.get(url) #download content\n",
    "res.text #parsing data into text\n",
    "soup = BeautifulSoup(res.text)"
   ]
  },
  {
   "cell_type": "code",
   "execution_count": 68,
   "metadata": {},
   "outputs": [
    {
     "data": {
      "text/plain": [
       "['/wiki/Pythonidae',\n",
       " '/wiki/Python_(genus)',\n",
       " '/wiki/Python_(mythology)',\n",
       " '/wiki/Python_of_Aenus',\n",
       " '/wiki/Python_(painter)',\n",
       " '/wiki/Python_of_Byzantium',\n",
       " '/wiki/Python_of_Catana',\n",
       " '/wiki/Python_(film)',\n",
       " '/wiki/Pythons_2',\n",
       " '/wiki/Monty_Python',\n",
       " '/wiki/Python_(Monty)_Pictures',\n",
       " '/wiki/Python_(programming_language)',\n",
       " '/wiki/CPython',\n",
       " '/wiki/CMU_Common_Lisp',\n",
       " '/wiki/PERQ#PERQ_3',\n",
       " '/wiki/Python_(Busch_Gardens_Tampa_Bay)',\n",
       " '/wiki/Python_(Coney_Island,_Cincinnati,_Ohio)',\n",
       " '/wiki/Python_(Efteling)',\n",
       " '/wiki/Python_(automobile_maker)',\n",
       " '/wiki/Python_(Ford_prototype)',\n",
       " '/wiki/Colt_Python',\n",
       " '/wiki/Python_(missile)',\n",
       " '/wiki/Python_(nuclear_primary)',\n",
       " '/wiki/Python_Anghelo',\n",
       " '/wiki/PYTHON',\n",
       " '/wiki/Cython',\n",
       " '/wiki/Pyton']"
      ]
     },
     "execution_count": 68,
     "metadata": {},
     "output_type": "execute_result"
    }
   ],
   "source": [
    "#soup.find_all(\"a\") #Encuentra todas las a\n",
    "atag = soup.select(\".mw-parser-output ul li a\") # a dentro de mw-parser-output ul li \n",
    "[a[\"href\"] for a in atag if not a.select(\".tocnumber\")]"
   ]
  },
  {
   "cell_type": "markdown",
   "metadata": {},
   "source": [
    "#### 6. Number of Titles that have changed in the United States Code since its last release point "
   ]
  },
  {
   "cell_type": "code",
   "execution_count": 23,
   "metadata": {},
   "outputs": [],
   "source": [
    "# This is the url you will scrape in this exercise\n",
    "url = 'http://uscode.house.gov/download/download.shtml'"
   ]
  },
  {
   "cell_type": "code",
   "execution_count": 24,
   "metadata": {},
   "outputs": [],
   "source": [
    "#your code\n",
    "\n",
    "res = requests.get(url) #download content\n",
    "res.text #parsing data into text\n",
    "soup = BeautifulSoup(res.text)"
   ]
  },
  {
   "cell_type": "code",
   "execution_count": 25,
   "metadata": {},
   "outputs": [],
   "source": [
    "divtag = soup.find_all(\"div\")\n",
    "# [div.get(\"class\") for div in divtag] #Miramos las clases que tienen los elementos div"
   ]
  },
  {
   "cell_type": "code",
   "execution_count": 26,
   "metadata": {},
   "outputs": [
    {
     "data": {
      "text/plain": [
       "[<div class=\"usctitlechanged\" id=\"us/usc/t8\">\n",
       " \n",
       "           Title 8 - Aliens and Nationality\n",
       " \n",
       "         </div>,\n",
       " <div class=\"usctitlechanged\" id=\"us/usc/t22\">\n",
       " \n",
       "           Title 22 - Foreign Relations and Intercourse\n",
       " \n",
       "         </div>,\n",
       " <div class=\"usctitlechanged\" id=\"us/usc/t29\">\n",
       " \n",
       "           Title 29 - Labor\n",
       " \n",
       "         </div>,\n",
       " <div class=\"usctitlechanged\" id=\"us/usc/t42\">\n",
       " \n",
       "           Title 42 - The Public Health and Welfare\n",
       " \n",
       "         </div>]"
      ]
     },
     "execution_count": 26,
     "metadata": {},
     "output_type": "execute_result"
    }
   ],
   "source": [
    "soup.select(\"div.usctitlechanged\")"
   ]
  },
  {
   "cell_type": "markdown",
   "metadata": {},
   "source": [
    "#### 7. A Python list with the top ten FBI's Most Wanted names "
   ]
  },
  {
   "cell_type": "code",
   "execution_count": 27,
   "metadata": {},
   "outputs": [],
   "source": [
    "# This is the url you will scrape in this exercise\n",
    "url = 'https://www.fbi.gov/wanted/topten'"
   ]
  },
  {
   "cell_type": "code",
   "execution_count": 28,
   "metadata": {},
   "outputs": [],
   "source": [
    "#your code \n",
    "\n",
    "res = requests.get(url) #download content\n",
    "res.text #parsing data into text\n",
    "soup = BeautifulSoup(res.text)"
   ]
  },
  {
   "cell_type": "code",
   "execution_count": 29,
   "metadata": {},
   "outputs": [
    {
     "data": {
      "text/plain": [
       "['YASER ABDEL SAID',\n",
       " 'ALEXIS FLORES',\n",
       " 'EUGENE PALMER',\n",
       " 'SANTIAGO VILLALBA MEDEROS',\n",
       " 'RAFAEL CARO-QUINTERO',\n",
       " 'ROBERT WILLIAM FISHER',\n",
       " 'BHADRESHKUMAR CHETANBHAI PATEL',\n",
       " 'ALEJANDRO ROSALES CASTILLO',\n",
       " 'ARNOLDO JIMENEZ',\n",
       " 'JASON DEREK BROWN']"
      ]
     },
     "execution_count": 29,
     "metadata": {},
     "output_type": "execute_result"
    }
   ],
   "source": [
    "# Buscamos todos los tags \"img\" (los nombres están relacionados con la imagen)\n",
    "imgtags = soup.find_all(\"img\")\n",
    "[img[\"alt\"] for img in imgtags[1:]]"
   ]
  },
  {
   "cell_type": "markdown",
   "metadata": {},
   "source": [
    "####  8. 20 latest earthquakes info (date, time, latitude, longitude and region name) by the EMSC as a pandas dataframe"
   ]
  },
  {
   "cell_type": "code",
   "execution_count": 30,
   "metadata": {},
   "outputs": [],
   "source": [
    "# This is the url you will scrape in this exercise\n",
    "url = 'https://www.emsc-csem.org/Earthquake/'"
   ]
  },
  {
   "cell_type": "code",
   "execution_count": 31,
   "metadata": {},
   "outputs": [],
   "source": [
    "#your code\n",
    "\n",
    "res = requests.get(url) #download content\n",
    "res.text #parsing data into text\n",
    "soup = BeautifulSoup(res.text)"
   ]
  },
  {
   "cell_type": "code",
   "execution_count": 32,
   "metadata": {
    "scrolled": true
   },
   "outputs": [],
   "source": [
    "# La información que buscamos está contenida en una tabla, por lo que buscamos todos los tags de \"table\":\n",
    "tables = soup.find_all(\"table\")\n",
    "#tables[3].text # Con .text podemos comprobar que la tabla 3 es la que nos interesa\n",
    "#tables[3].find_all(\"tr\")[1].text #Buscamos todas las filas de la tabla. La fila 1 es la cabecera\n",
    "rows = tables[3].find_all(\"tr\")[1:]"
   ]
  },
  {
   "cell_type": "code",
   "execution_count": 33,
   "metadata": {},
   "outputs": [],
   "source": [
    "def structureLine(tag):\n",
    "    td = tag.find_all(\"td\")\n",
    "    \n",
    "    # Date and time data\n",
    "    a = td[3].text\n",
    "    date = re.search(r\"\\d{4}-\\d{2}-\\d{2}\", a).group()\n",
    "    time = re.search(r\"\\d{2}:\\d{2}:\\d{2}.+\", a).group()\n",
    "\n",
    "    return {\n",
    "        \"Date\": date,\n",
    "        \"Time\":  time,\n",
    "        \"Latitude\": td[4].text[0:-1], #necesita transformación!\n",
    "        \"Longitude\": td[6].text[0:-1], #necesita transformación!\n",
    "        \"Magnitude\": td[10].text,\n",
    "        \"Location\": td[11].text[1:] #necesita transformación!\n",
    "        \n",
    "    }"
   ]
  },
  {
   "cell_type": "code",
   "execution_count": 34,
   "metadata": {
    "scrolled": true
   },
   "outputs": [
    {
     "data": {
      "text/plain": [
       "{'Date': '2020-04-09',\n",
       " 'Time': '22:48:51.917min ago',\n",
       " 'Latitude': '39.24',\n",
       " 'Longitude': '123.26',\n",
       " 'Magnitude': '2.7',\n",
       " 'Location': 'NORTHERN CALIFORNIA'}"
      ]
     },
     "execution_count": 34,
     "metadata": {},
     "output_type": "execute_result"
    }
   ],
   "source": [
    "structureLine(rows[4]) # funciona!"
   ]
  },
  {
   "cell_type": "code",
   "execution_count": 35,
   "metadata": {},
   "outputs": [],
   "source": [
    "# Aplicamos la función a todas las filas\n",
    "earthquakes = list(map(structureLine, rows[4:24]))"
   ]
  },
  {
   "cell_type": "code",
   "execution_count": 36,
   "metadata": {},
   "outputs": [
    {
     "data": {
      "text/html": [
       "<div>\n",
       "<style scoped>\n",
       "    .dataframe tbody tr th:only-of-type {\n",
       "        vertical-align: middle;\n",
       "    }\n",
       "\n",
       "    .dataframe tbody tr th {\n",
       "        vertical-align: top;\n",
       "    }\n",
       "\n",
       "    .dataframe thead th {\n",
       "        text-align: right;\n",
       "    }\n",
       "</style>\n",
       "<table border=\"1\" class=\"dataframe\">\n",
       "  <thead>\n",
       "    <tr style=\"text-align: right;\">\n",
       "      <th></th>\n",
       "      <th>Date</th>\n",
       "      <th>Time</th>\n",
       "      <th>Latitude</th>\n",
       "      <th>Longitude</th>\n",
       "      <th>Magnitude</th>\n",
       "      <th>Location</th>\n",
       "    </tr>\n",
       "  </thead>\n",
       "  <tbody>\n",
       "    <tr>\n",
       "      <th>0</th>\n",
       "      <td>2020-04-09</td>\n",
       "      <td>22:48:51.917min ago</td>\n",
       "      <td>39.24</td>\n",
       "      <td>123.26</td>\n",
       "      <td>2.7</td>\n",
       "      <td>NORTHERN CALIFORNIA</td>\n",
       "    </tr>\n",
       "    <tr>\n",
       "      <th>1</th>\n",
       "      <td>2020-04-09</td>\n",
       "      <td>22:43:51.022min ago</td>\n",
       "      <td>6.93</td>\n",
       "      <td>106.29</td>\n",
       "      <td>2.5</td>\n",
       "      <td>JAVA, INDONESIA</td>\n",
       "    </tr>\n",
       "    <tr>\n",
       "      <th>2</th>\n",
       "      <td>2020-04-09</td>\n",
       "      <td>22:32:55.033min ago</td>\n",
       "      <td>31.35</td>\n",
       "      <td>71.42</td>\n",
       "      <td>3.7</td>\n",
       "      <td>COQUIMBO, CHILE</td>\n",
       "    </tr>\n",
       "    <tr>\n",
       "      <th>3</th>\n",
       "      <td>2020-04-09</td>\n",
       "      <td>22:23:01.743min ago</td>\n",
       "      <td>38.52</td>\n",
       "      <td>39.32</td>\n",
       "      <td>2.2</td>\n",
       "      <td>EASTERN TURKEY</td>\n",
       "    </tr>\n",
       "    <tr>\n",
       "      <th>4</th>\n",
       "      <td>2020-04-09</td>\n",
       "      <td>22:00:28.41hr 05min ago</td>\n",
       "      <td>38.24</td>\n",
       "      <td>20.73</td>\n",
       "      <td>3.7</td>\n",
       "      <td>GREECE</td>\n",
       "    </tr>\n",
       "    <tr>\n",
       "      <th>5</th>\n",
       "      <td>2020-04-09</td>\n",
       "      <td>21:49:26.81hr 16min ago</td>\n",
       "      <td>18.02</td>\n",
       "      <td>66.80</td>\n",
       "      <td>2.3</td>\n",
       "      <td>PUERTO RICO</td>\n",
       "    </tr>\n",
       "    <tr>\n",
       "      <th>6</th>\n",
       "      <td>2020-04-09</td>\n",
       "      <td>21:41:45.21hr 24min ago</td>\n",
       "      <td>36.48</td>\n",
       "      <td>121.08</td>\n",
       "      <td>2.0</td>\n",
       "      <td>CENTRAL CALIFORNIA</td>\n",
       "    </tr>\n",
       "    <tr>\n",
       "      <th>7</th>\n",
       "      <td>2020-04-09</td>\n",
       "      <td>21:28:43.51hr 37min ago</td>\n",
       "      <td>38.26</td>\n",
       "      <td>38.79</td>\n",
       "      <td>2.2</td>\n",
       "      <td>EASTERN TURKEY</td>\n",
       "    </tr>\n",
       "    <tr>\n",
       "      <th>8</th>\n",
       "      <td>2020-04-09</td>\n",
       "      <td>21:23:43.11hr 42min ago</td>\n",
       "      <td>40.99</td>\n",
       "      <td>37.35</td>\n",
       "      <td>3.9</td>\n",
       "      <td>CENTRAL TURKEY</td>\n",
       "    </tr>\n",
       "    <tr>\n",
       "      <th>9</th>\n",
       "      <td>2020-04-09</td>\n",
       "      <td>21:14:20.21hr 51min ago</td>\n",
       "      <td>37.79</td>\n",
       "      <td>22.90</td>\n",
       "      <td>3.7</td>\n",
       "      <td>SOUTHERN GREECE</td>\n",
       "    </tr>\n",
       "    <tr>\n",
       "      <th>10</th>\n",
       "      <td>2020-04-09</td>\n",
       "      <td>21:12:13.61hr 54min ago</td>\n",
       "      <td>44.37</td>\n",
       "      <td>115.22</td>\n",
       "      <td>2.3</td>\n",
       "      <td>SOUTHERN IDAHO</td>\n",
       "    </tr>\n",
       "    <tr>\n",
       "      <th>11</th>\n",
       "      <td>2020-04-09</td>\n",
       "      <td>21:09:53.11hr 56min ago</td>\n",
       "      <td>44.53</td>\n",
       "      <td>115.25</td>\n",
       "      <td>2.0</td>\n",
       "      <td>SOUTHERN IDAHO</td>\n",
       "    </tr>\n",
       "    <tr>\n",
       "      <th>12</th>\n",
       "      <td>2020-04-09</td>\n",
       "      <td>20:48:26.02hr 17min ago</td>\n",
       "      <td>44.39</td>\n",
       "      <td>115.20</td>\n",
       "      <td>2.7</td>\n",
       "      <td>SOUTHERN IDAHO</td>\n",
       "    </tr>\n",
       "    <tr>\n",
       "      <th>13</th>\n",
       "      <td>2020-04-09</td>\n",
       "      <td>20:37:30.02hr 28min ago</td>\n",
       "      <td>0.81</td>\n",
       "      <td>122.01</td>\n",
       "      <td>3.0</td>\n",
       "      <td>MINAHASA, SULAWESI, INDONESIA</td>\n",
       "    </tr>\n",
       "    <tr>\n",
       "      <th>14</th>\n",
       "      <td>2020-04-09</td>\n",
       "      <td>20:36:50.02hr 29min ago</td>\n",
       "      <td>7.98</td>\n",
       "      <td>120.59</td>\n",
       "      <td>2.9</td>\n",
       "      <td>FLORES SEA</td>\n",
       "    </tr>\n",
       "    <tr>\n",
       "      <th>15</th>\n",
       "      <td>2020-04-09</td>\n",
       "      <td>20:35:29.42hr 30min ago</td>\n",
       "      <td>18.01</td>\n",
       "      <td>66.82</td>\n",
       "      <td>2.5</td>\n",
       "      <td>PUERTO RICO</td>\n",
       "    </tr>\n",
       "    <tr>\n",
       "      <th>16</th>\n",
       "      <td>2020-04-09</td>\n",
       "      <td>20:34:04.02hr 32min ago</td>\n",
       "      <td>2.89</td>\n",
       "      <td>126.81</td>\n",
       "      <td>3.7</td>\n",
       "      <td>MOLUCCA SEA</td>\n",
       "    </tr>\n",
       "    <tr>\n",
       "      <th>17</th>\n",
       "      <td>2020-04-09</td>\n",
       "      <td>20:33:49.02hr 32min ago</td>\n",
       "      <td>0.63</td>\n",
       "      <td>99.88</td>\n",
       "      <td>3.4</td>\n",
       "      <td>NORTHERN SUMATRA, INDONESIA</td>\n",
       "    </tr>\n",
       "    <tr>\n",
       "      <th>18</th>\n",
       "      <td>2020-04-09</td>\n",
       "      <td>20:32:04.12hr 34min ago</td>\n",
       "      <td>38.92</td>\n",
       "      <td>17.29</td>\n",
       "      <td>2.0</td>\n",
       "      <td>SOUTHERN ITALY</td>\n",
       "    </tr>\n",
       "    <tr>\n",
       "      <th>19</th>\n",
       "      <td>2020-04-09</td>\n",
       "      <td>20:25:40.12hr 40min ago</td>\n",
       "      <td>44.36</td>\n",
       "      <td>115.21</td>\n",
       "      <td>2.3</td>\n",
       "      <td>SOUTHERN IDAHO</td>\n",
       "    </tr>\n",
       "  </tbody>\n",
       "</table>\n",
       "</div>"
      ],
      "text/plain": [
       "          Date                     Time Latitude Longitude Magnitude  \\\n",
       "0   2020-04-09      22:48:51.917min ago    39.24    123.26       2.7   \n",
       "1   2020-04-09      22:43:51.022min ago     6.93    106.29       2.5   \n",
       "2   2020-04-09      22:32:55.033min ago    31.35     71.42       3.7   \n",
       "3   2020-04-09      22:23:01.743min ago    38.52     39.32       2.2   \n",
       "4   2020-04-09  22:00:28.41hr 05min ago    38.24     20.73       3.7   \n",
       "5   2020-04-09  21:49:26.81hr 16min ago    18.02     66.80       2.3   \n",
       "6   2020-04-09  21:41:45.21hr 24min ago    36.48    121.08       2.0   \n",
       "7   2020-04-09  21:28:43.51hr 37min ago    38.26     38.79       2.2   \n",
       "8   2020-04-09  21:23:43.11hr 42min ago    40.99     37.35       3.9   \n",
       "9   2020-04-09  21:14:20.21hr 51min ago    37.79     22.90       3.7   \n",
       "10  2020-04-09  21:12:13.61hr 54min ago    44.37    115.22       2.3   \n",
       "11  2020-04-09  21:09:53.11hr 56min ago    44.53    115.25       2.0   \n",
       "12  2020-04-09  20:48:26.02hr 17min ago    44.39    115.20       2.7   \n",
       "13  2020-04-09  20:37:30.02hr 28min ago     0.81    122.01       3.0   \n",
       "14  2020-04-09  20:36:50.02hr 29min ago     7.98    120.59       2.9   \n",
       "15  2020-04-09  20:35:29.42hr 30min ago    18.01     66.82       2.5   \n",
       "16  2020-04-09  20:34:04.02hr 32min ago     2.89    126.81       3.7   \n",
       "17  2020-04-09  20:33:49.02hr 32min ago     0.63     99.88       3.4   \n",
       "18  2020-04-09  20:32:04.12hr 34min ago    38.92     17.29       2.0   \n",
       "19  2020-04-09  20:25:40.12hr 40min ago    44.36    115.21       2.3   \n",
       "\n",
       "                         Location  \n",
       "0             NORTHERN CALIFORNIA  \n",
       "1                 JAVA, INDONESIA  \n",
       "2                 COQUIMBO, CHILE  \n",
       "3                  EASTERN TURKEY  \n",
       "4                          GREECE  \n",
       "5                     PUERTO RICO  \n",
       "6              CENTRAL CALIFORNIA  \n",
       "7                  EASTERN TURKEY  \n",
       "8                  CENTRAL TURKEY  \n",
       "9                 SOUTHERN GREECE  \n",
       "10                 SOUTHERN IDAHO  \n",
       "11                 SOUTHERN IDAHO  \n",
       "12                 SOUTHERN IDAHO  \n",
       "13  MINAHASA, SULAWESI, INDONESIA  \n",
       "14                     FLORES SEA  \n",
       "15                    PUERTO RICO  \n",
       "16                    MOLUCCA SEA  \n",
       "17    NORTHERN SUMATRA, INDONESIA  \n",
       "18                 SOUTHERN ITALY  \n",
       "19                 SOUTHERN IDAHO  "
      ]
     },
     "execution_count": 36,
     "metadata": {},
     "output_type": "execute_result"
    }
   ],
   "source": [
    "# Convertimos la lista en un df\n",
    "earthquakes_df = pd.DataFrame(earthquakes)\n",
    "earthquakes_df"
   ]
  },
  {
   "cell_type": "markdown",
   "metadata": {},
   "source": [
    "#### 9. Display the date, days, title, city, country of next 25 hackathon events as a Pandas dataframe table"
   ]
  },
  {
   "cell_type": "code",
   "execution_count": 37,
   "metadata": {},
   "outputs": [],
   "source": [
    "# This is the url you will scrape in this exercise\n",
    "url ='https://hackevents.co/hackathons'"
   ]
  },
  {
   "cell_type": "code",
   "execution_count": 38,
   "metadata": {},
   "outputs": [],
   "source": [
    "#your code\n",
    "\n",
    "res = requests.get(url) #download content\n",
    "res.text #parsing data into text\n",
    "soup = BeautifulSoup(res.text)"
   ]
  },
  {
   "cell_type": "markdown",
   "metadata": {},
   "source": [
    "#### 10. Count number of tweets by a given Twitter account."
   ]
  },
  {
   "cell_type": "markdown",
   "metadata": {},
   "source": [
    "You will need to include a ***try/except block*** for account names not found. \n",
    "<br>***Hint:*** the program should count the number of tweets for any provided account"
   ]
  },
  {
   "cell_type": "code",
   "execution_count": 39,
   "metadata": {},
   "outputs": [],
   "source": [
    "# This is the url you will scrape in this exercise \n",
    "# You will need to add the account credentials to this url\n",
    "url = 'https://twitter.com/'"
   ]
  },
  {
   "cell_type": "code",
   "execution_count": 40,
   "metadata": {},
   "outputs": [],
   "source": [
    "#your code"
   ]
  },
  {
   "cell_type": "markdown",
   "metadata": {},
   "source": [
    "#### 11. Number of followers of a given twitter account"
   ]
  },
  {
   "cell_type": "markdown",
   "metadata": {},
   "source": [
    "You will need to include a ***try/except block*** in case account/s name not found. \n",
    "<br>***Hint:*** the program should count the followers for any provided account"
   ]
  },
  {
   "cell_type": "code",
   "execution_count": 41,
   "metadata": {},
   "outputs": [],
   "source": [
    "# This is the url you will scrape in this exercise \n",
    "# You will need to add the account credentials to this url\n",
    "url = 'https://twitter.com/'"
   ]
  },
  {
   "cell_type": "code",
   "execution_count": 42,
   "metadata": {},
   "outputs": [],
   "source": [
    "#your code\n"
   ]
  },
  {
   "cell_type": "markdown",
   "metadata": {},
   "source": [
    "#### 12. List all language names and number of related articles in the order they appear in wikipedia.org"
   ]
  },
  {
   "cell_type": "code",
   "execution_count": 43,
   "metadata": {},
   "outputs": [],
   "source": [
    "# This is the url you will scrape in this exercise\n",
    "url = 'https://www.wikipedia.org/'"
   ]
  },
  {
   "cell_type": "code",
   "execution_count": 44,
   "metadata": {},
   "outputs": [],
   "source": [
    "#your code\n",
    "\n",
    "res = requests.get(url) #download content\n",
    "res.text #parsing data into text\n",
    "soup = BeautifulSoup(res.text)"
   ]
  },
  {
   "cell_type": "code",
   "execution_count": 45,
   "metadata": {},
   "outputs": [],
   "source": [
    "# Buscamos los tags \"a\"\n",
    "atags = soup.find_all(\"a\")"
   ]
  },
  {
   "cell_type": "code",
   "execution_count": 46,
   "metadata": {},
   "outputs": [],
   "source": [
    "# Definimos una función que obtenga el idioma y el número de artículos\n",
    "\n",
    "def wikilanguage (tag):\n",
    "    idioma = tag.strong.text\n",
    "    #tag[0][\"title\"] # aquí también podemos ver el idioma\n",
    "    articulos = tag.small.text \n",
    "    return idioma, articulos"
   ]
  },
  {
   "cell_type": "code",
   "execution_count": 47,
   "metadata": {},
   "outputs": [
    {
     "data": {
      "text/plain": [
       "[('English', '6\\xa0050\\xa0000+ articles'),\n",
       " ('EspaÃ±ol', '1\\xa0588\\xa0000+ artÃ\\xadculos'),\n",
       " ('æ\\x97¥æ\\x9c¬èª\\x9e', '1\\xa0198\\xa0000+ è¨\\x98äº\\x8b'),\n",
       " ('Deutsch', '2\\xa0416\\xa0000+ Artikel'),\n",
       " ('FranÃ§ais', '2\\xa0197\\xa0000+ articles'),\n",
       " ('Ð\\xa0Ñ\\x83Ñ\\x81Ñ\\x81ÐºÐ¸Ð¹', '1\\xa0611\\xa0000+ Ñ\\x81Ñ\\x82Ð°Ñ\\x82ÐµÐ¹'),\n",
       " ('Italiano', '1\\xa0595\\xa0000+ voci'),\n",
       " ('ä¸\\xadæ\\x96\\x87', '1\\xa0109\\xa0000+ æ¢\\x9dç\\x9b®'),\n",
       " ('PortuguÃªs', '1\\xa0027\\xa0000+ artigos'),\n",
       " ('Polski', '1\\xa0399\\xa0000+ haseÅ\\x82')]"
      ]
     },
     "execution_count": 47,
     "metadata": {},
     "output_type": "execute_result"
    }
   ],
   "source": [
    "# Aplicamos la función a todas las filas\n",
    "languages = list(map(wikilanguage, atags[0:10]))\n",
    "languages"
   ]
  },
  {
   "cell_type": "markdown",
   "metadata": {},
   "source": [
    "#### 13. A list with the different kind of datasets available in data.gov.uk "
   ]
  },
  {
   "cell_type": "code",
   "execution_count": 48,
   "metadata": {},
   "outputs": [],
   "source": [
    "# This is the url you will scrape in this exercise\n",
    "url = 'https://data.gov.uk/'"
   ]
  },
  {
   "cell_type": "code",
   "execution_count": 49,
   "metadata": {},
   "outputs": [],
   "source": [
    "#your code \n",
    "\n",
    "res = requests.get(url) #download content\n",
    "res.text #parsing data into text\n",
    "soup = BeautifulSoup(res.text)"
   ]
  },
  {
   "cell_type": "code",
   "execution_count": 50,
   "metadata": {},
   "outputs": [],
   "source": [
    "# Buscamos los tags \"a\"\n",
    "atag = soup.find_all(\"a\")"
   ]
  },
  {
   "cell_type": "code",
   "execution_count": 51,
   "metadata": {},
   "outputs": [],
   "source": [
    "def datatopic(tag):\n",
    "    return ' '.join(tag[\"href\"].split(\"=\")[1].split(\"+\"))"
   ]
  },
  {
   "cell_type": "code",
   "execution_count": 52,
   "metadata": {},
   "outputs": [
    {
     "data": {
      "text/plain": [
       "'Business and economy'"
      ]
     },
     "execution_count": 52,
     "metadata": {},
     "output_type": "execute_result"
    }
   ],
   "source": [
    "datatopic(atag[10])"
   ]
  },
  {
   "cell_type": "code",
   "execution_count": 53,
   "metadata": {},
   "outputs": [
    {
     "data": {
      "text/plain": [
       "['Business and economy',\n",
       " 'Crime and justice',\n",
       " 'Defence',\n",
       " 'Education',\n",
       " 'Environment',\n",
       " 'Government',\n",
       " 'Government spending',\n",
       " 'Health',\n",
       " 'Mapping',\n",
       " 'Society',\n",
       " 'Towns and cities']"
      ]
     },
     "execution_count": 53,
     "metadata": {},
     "output_type": "execute_result"
    }
   ],
   "source": [
    "datasets = list(map(datatopic, atag[10:21]))\n",
    "datasets"
   ]
  },
  {
   "cell_type": "markdown",
   "metadata": {},
   "source": [
    "#### 14. Top 10 languages by number of native speakers stored in a Pandas Dataframe"
   ]
  },
  {
   "cell_type": "code",
   "execution_count": 54,
   "metadata": {},
   "outputs": [],
   "source": [
    "# This is the url you will scrape in this exercise\n",
    "url = 'https://en.wikipedia.org/wiki/List_of_languages_by_number_of_native_speakers'"
   ]
  },
  {
   "cell_type": "code",
   "execution_count": 55,
   "metadata": {},
   "outputs": [],
   "source": [
    "#your code\n",
    "\n",
    "res = requests.get(url) # download content\n",
    "res.text # parsing data into text\n",
    "soup = BeautifulSoup(res.text)"
   ]
  },
  {
   "cell_type": "code",
   "execution_count": 56,
   "metadata": {},
   "outputs": [],
   "source": [
    "# La información que buscamos está contenida en una tabla, por lo que buscamos todos los tags de \"table\":\n",
    "tables = soup.find_all(\"table\")\n",
    "#tables[0] # Trabajaremos con la primera tabla\n",
    "rows = tables[0].find_all(\"tr\")[1:] # La primera línea es la cabecera de la tabla"
   ]
  },
  {
   "cell_type": "code",
   "execution_count": 57,
   "metadata": {},
   "outputs": [],
   "source": [
    "def structurerow(row):\n",
    "    td = row.find_all(\"td\")    \n",
    "    return {\n",
    "        \"Ranking\": td[0].text.strip(),\n",
    "        \"Language\":  td[1].text.strip(),\n",
    "        \"Speakers (millions)\": td[2].text.strip()        \n",
    "    }"
   ]
  },
  {
   "cell_type": "code",
   "execution_count": 58,
   "metadata": {},
   "outputs": [
    {
     "data": {
      "text/html": [
       "<div>\n",
       "<style scoped>\n",
       "    .dataframe tbody tr th:only-of-type {\n",
       "        vertical-align: middle;\n",
       "    }\n",
       "\n",
       "    .dataframe tbody tr th {\n",
       "        vertical-align: top;\n",
       "    }\n",
       "\n",
       "    .dataframe thead th {\n",
       "        text-align: right;\n",
       "    }\n",
       "</style>\n",
       "<table border=\"1\" class=\"dataframe\">\n",
       "  <thead>\n",
       "    <tr style=\"text-align: right;\">\n",
       "      <th></th>\n",
       "      <th>Ranking</th>\n",
       "      <th>Language</th>\n",
       "      <th>Speakers (millions)</th>\n",
       "    </tr>\n",
       "  </thead>\n",
       "  <tbody>\n",
       "    <tr>\n",
       "      <th>0</th>\n",
       "      <td>1</td>\n",
       "      <td>Mandarin Chinese</td>\n",
       "      <td>918</td>\n",
       "    </tr>\n",
       "    <tr>\n",
       "      <th>1</th>\n",
       "      <td>2</td>\n",
       "      <td>Spanish</td>\n",
       "      <td>480</td>\n",
       "    </tr>\n",
       "    <tr>\n",
       "      <th>2</th>\n",
       "      <td>3</td>\n",
       "      <td>English</td>\n",
       "      <td>379</td>\n",
       "    </tr>\n",
       "    <tr>\n",
       "      <th>3</th>\n",
       "      <td>4</td>\n",
       "      <td>Hindi (Sanskritised Hindustani)[9]</td>\n",
       "      <td>341</td>\n",
       "    </tr>\n",
       "    <tr>\n",
       "      <th>4</th>\n",
       "      <td>5</td>\n",
       "      <td>Bengali</td>\n",
       "      <td>228</td>\n",
       "    </tr>\n",
       "    <tr>\n",
       "      <th>5</th>\n",
       "      <td>6</td>\n",
       "      <td>Portuguese</td>\n",
       "      <td>221</td>\n",
       "    </tr>\n",
       "    <tr>\n",
       "      <th>6</th>\n",
       "      <td>7</td>\n",
       "      <td>Russian</td>\n",
       "      <td>154</td>\n",
       "    </tr>\n",
       "    <tr>\n",
       "      <th>7</th>\n",
       "      <td>8</td>\n",
       "      <td>Japanese</td>\n",
       "      <td>128</td>\n",
       "    </tr>\n",
       "    <tr>\n",
       "      <th>8</th>\n",
       "      <td>9</td>\n",
       "      <td>Western Punjabi[10]</td>\n",
       "      <td>92.7</td>\n",
       "    </tr>\n",
       "    <tr>\n",
       "      <th>9</th>\n",
       "      <td>10</td>\n",
       "      <td>Marathi</td>\n",
       "      <td>83.1</td>\n",
       "    </tr>\n",
       "  </tbody>\n",
       "</table>\n",
       "</div>"
      ],
      "text/plain": [
       "  Ranking                            Language Speakers (millions)\n",
       "0       1                    Mandarin Chinese                 918\n",
       "1       2                             Spanish                 480\n",
       "2       3                             English                 379\n",
       "3       4  Hindi (Sanskritised Hindustani)[9]                 341\n",
       "4       5                             Bengali                 228\n",
       "5       6                          Portuguese                 221\n",
       "6       7                             Russian                 154\n",
       "7       8                            Japanese                 128\n",
       "8       9                 Western Punjabi[10]                92.7\n",
       "9      10                             Marathi                83.1"
      ]
     },
     "execution_count": 58,
     "metadata": {},
     "output_type": "execute_result"
    }
   ],
   "source": [
    "toplanguages = list(map(structurerow, rows[0:10]))\n",
    "toplanguages_df = pd.DataFrame(toplanguages)\n",
    "toplanguages_df"
   ]
  },
  {
   "cell_type": "markdown",
   "metadata": {},
   "source": [
    "### BONUS QUESTIONS"
   ]
  },
  {
   "cell_type": "markdown",
   "metadata": {},
   "source": [
    "#### Scrape a certain number of tweets of a given Twitter account."
   ]
  },
  {
   "cell_type": "code",
   "execution_count": 59,
   "metadata": {},
   "outputs": [],
   "source": [
    "# This is the url you will scrape in this exercise \n",
    "# You will need to add the account credentials to this url\n",
    "url = 'https://twitter.com/'"
   ]
  },
  {
   "cell_type": "code",
   "execution_count": 60,
   "metadata": {},
   "outputs": [],
   "source": [
    "# your code"
   ]
  },
  {
   "cell_type": "markdown",
   "metadata": {},
   "source": [
    "#### IMDB's Top 250 data (movie name, Initial release, director name and stars) as a pandas dataframe"
   ]
  },
  {
   "cell_type": "code",
   "execution_count": 61,
   "metadata": {},
   "outputs": [],
   "source": [
    "# This is the url you will scrape in this exercise \n",
    "url = 'https://www.imdb.com/chart/top'"
   ]
  },
  {
   "cell_type": "code",
   "execution_count": 62,
   "metadata": {},
   "outputs": [],
   "source": [
    "# your code"
   ]
  },
  {
   "cell_type": "markdown",
   "metadata": {},
   "source": [
    "#### Movie name, year and a brief summary of the top 10 random movies (IMDB) as a pandas dataframe."
   ]
  },
  {
   "cell_type": "code",
   "execution_count": 63,
   "metadata": {},
   "outputs": [],
   "source": [
    "#This is the url you will scrape in this exercise\n",
    "url = 'http://www.imdb.com/chart/top'"
   ]
  },
  {
   "cell_type": "code",
   "execution_count": 64,
   "metadata": {},
   "outputs": [],
   "source": [
    "#your code"
   ]
  },
  {
   "cell_type": "markdown",
   "metadata": {},
   "source": [
    "#### Find the live weather report (temperature, wind speed, description and weather) of a given city."
   ]
  },
  {
   "cell_type": "code",
   "execution_count": null,
   "metadata": {},
   "outputs": [],
   "source": [
    "#https://openweathermap.org/current\n",
    "#city = city=input('Enter the city:')\n",
    "url = 'http://api.openweathermap.org/data/2.5/weather?'+'q='+city+'&APPID=b35975e18dc93725acb092f7272cc6b8&units=metric'"
   ]
  },
  {
   "cell_type": "code",
   "execution_count": null,
   "metadata": {},
   "outputs": [],
   "source": [
    "# your code"
   ]
  },
  {
   "cell_type": "markdown",
   "metadata": {},
   "source": [
    "#### Book name,price and stock availability as a pandas dataframe."
   ]
  },
  {
   "cell_type": "code",
   "execution_count": null,
   "metadata": {},
   "outputs": [],
   "source": [
    "# This is the url you will scrape in this exercise. \n",
    "# It is a fictional bookstore created to be scraped. \n",
    "url = 'http://books.toscrape.com/'"
   ]
  },
  {
   "cell_type": "code",
   "execution_count": null,
   "metadata": {},
   "outputs": [],
   "source": [
    "#your code"
   ]
  }
 ],
 "metadata": {
  "kernelspec": {
   "display_name": "Python 3",
   "language": "python",
   "name": "python3"
  },
  "language_info": {
   "codemirror_mode": {
    "name": "ipython",
    "version": 3
   },
   "file_extension": ".py",
   "mimetype": "text/x-python",
   "name": "python",
   "nbconvert_exporter": "python",
   "pygments_lexer": "ipython3",
   "version": "3.6.9"
  }
 },
 "nbformat": 4,
 "nbformat_minor": 2
}
